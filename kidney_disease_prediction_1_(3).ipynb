{
  "cells": [
    {
      "cell_type": "code",
      "source": [
        "from google.colab import drive\n",
        "drive.mount('/content/drive')"
      ],
      "metadata": {
        "colab": {
          "base_uri": "https://localhost:8080/"
        },
        "id": "cIGmYG7WECGN",
        "outputId": "d1153168-d2f4-409f-c1d2-328f211d795a"
      },
      "id": "cIGmYG7WECGN",
      "execution_count": null,
      "outputs": [
        {
          "output_type": "stream",
          "name": "stdout",
          "text": [
            "Mounted at /content/drive\n"
          ]
        }
      ]
    },
    {
      "cell_type": "code",
      "execution_count": null,
      "id": "89764c70",
      "metadata": {
        "id": "89764c70"
      },
      "outputs": [],
      "source": [
        "# necessary imports\n",
        "\n",
        "import pandas as pd\n",
        "import numpy as np\n",
        "import matplotlib.pyplot as plt\n",
        "import seaborn as sns\n",
        "import plotly.express as px\n",
        "import warnings\n",
        "warnings.filterwarnings('ignore')"
      ]
    },
    {
      "cell_type": "code",
      "execution_count": null,
      "id": "f101956a",
      "metadata": {
        "colab": {
          "base_uri": "https://localhost:8080/",
          "height": 236
        },
        "id": "f101956a",
        "outputId": "ac032b74-bba0-44d1-e81a-4e690d4693d6"
      },
      "outputs": [
        {
          "output_type": "execute_result",
          "data": {
            "text/plain": [
              "   id   age    bp     sg   al   su     rbc        pc         pcc          ba  \\\n",
              "0   0  48.0  80.0  1.020  1.0  0.0     NaN    normal  notpresent  notpresent   \n",
              "1   1   7.0  50.0  1.020  4.0  0.0     NaN    normal  notpresent  notpresent   \n",
              "2   2  62.0  80.0  1.010  2.0  3.0  normal    normal  notpresent  notpresent   \n",
              "3   3  48.0  70.0  1.005  4.0  0.0  normal  abnormal     present  notpresent   \n",
              "4   4  51.0  80.0  1.010  2.0  0.0  normal    normal  notpresent  notpresent   \n",
              "\n",
              "   ...  pcv    wc   rc  htn   dm  cad appet   pe  ane classification  \n",
              "0  ...   44  7800  5.2  yes  yes   no  good   no   no            ckd  \n",
              "1  ...   38  6000  NaN   no   no   no  good   no   no            ckd  \n",
              "2  ...   31  7500  NaN   no  yes   no  poor   no  yes            ckd  \n",
              "3  ...   32  6700  3.9  yes   no   no  poor  yes  yes            ckd  \n",
              "4  ...   35  7300  4.6   no   no   no  good   no   no            ckd  \n",
              "\n",
              "[5 rows x 26 columns]"
            ],
            "text/html": [
              "\n",
              "  <div id=\"df-fc6cc42c-06aa-4e66-9b36-a6a53f931dad\">\n",
              "    <div class=\"colab-df-container\">\n",
              "      <div>\n",
              "<style scoped>\n",
              "    .dataframe tbody tr th:only-of-type {\n",
              "        vertical-align: middle;\n",
              "    }\n",
              "\n",
              "    .dataframe tbody tr th {\n",
              "        vertical-align: top;\n",
              "    }\n",
              "\n",
              "    .dataframe thead th {\n",
              "        text-align: right;\n",
              "    }\n",
              "</style>\n",
              "<table border=\"1\" class=\"dataframe\">\n",
              "  <thead>\n",
              "    <tr style=\"text-align: right;\">\n",
              "      <th></th>\n",
              "      <th>id</th>\n",
              "      <th>age</th>\n",
              "      <th>bp</th>\n",
              "      <th>sg</th>\n",
              "      <th>al</th>\n",
              "      <th>su</th>\n",
              "      <th>rbc</th>\n",
              "      <th>pc</th>\n",
              "      <th>pcc</th>\n",
              "      <th>ba</th>\n",
              "      <th>...</th>\n",
              "      <th>pcv</th>\n",
              "      <th>wc</th>\n",
              "      <th>rc</th>\n",
              "      <th>htn</th>\n",
              "      <th>dm</th>\n",
              "      <th>cad</th>\n",
              "      <th>appet</th>\n",
              "      <th>pe</th>\n",
              "      <th>ane</th>\n",
              "      <th>classification</th>\n",
              "    </tr>\n",
              "  </thead>\n",
              "  <tbody>\n",
              "    <tr>\n",
              "      <th>0</th>\n",
              "      <td>0</td>\n",
              "      <td>48.0</td>\n",
              "      <td>80.0</td>\n",
              "      <td>1.020</td>\n",
              "      <td>1.0</td>\n",
              "      <td>0.0</td>\n",
              "      <td>NaN</td>\n",
              "      <td>normal</td>\n",
              "      <td>notpresent</td>\n",
              "      <td>notpresent</td>\n",
              "      <td>...</td>\n",
              "      <td>44</td>\n",
              "      <td>7800</td>\n",
              "      <td>5.2</td>\n",
              "      <td>yes</td>\n",
              "      <td>yes</td>\n",
              "      <td>no</td>\n",
              "      <td>good</td>\n",
              "      <td>no</td>\n",
              "      <td>no</td>\n",
              "      <td>ckd</td>\n",
              "    </tr>\n",
              "    <tr>\n",
              "      <th>1</th>\n",
              "      <td>1</td>\n",
              "      <td>7.0</td>\n",
              "      <td>50.0</td>\n",
              "      <td>1.020</td>\n",
              "      <td>4.0</td>\n",
              "      <td>0.0</td>\n",
              "      <td>NaN</td>\n",
              "      <td>normal</td>\n",
              "      <td>notpresent</td>\n",
              "      <td>notpresent</td>\n",
              "      <td>...</td>\n",
              "      <td>38</td>\n",
              "      <td>6000</td>\n",
              "      <td>NaN</td>\n",
              "      <td>no</td>\n",
              "      <td>no</td>\n",
              "      <td>no</td>\n",
              "      <td>good</td>\n",
              "      <td>no</td>\n",
              "      <td>no</td>\n",
              "      <td>ckd</td>\n",
              "    </tr>\n",
              "    <tr>\n",
              "      <th>2</th>\n",
              "      <td>2</td>\n",
              "      <td>62.0</td>\n",
              "      <td>80.0</td>\n",
              "      <td>1.010</td>\n",
              "      <td>2.0</td>\n",
              "      <td>3.0</td>\n",
              "      <td>normal</td>\n",
              "      <td>normal</td>\n",
              "      <td>notpresent</td>\n",
              "      <td>notpresent</td>\n",
              "      <td>...</td>\n",
              "      <td>31</td>\n",
              "      <td>7500</td>\n",
              "      <td>NaN</td>\n",
              "      <td>no</td>\n",
              "      <td>yes</td>\n",
              "      <td>no</td>\n",
              "      <td>poor</td>\n",
              "      <td>no</td>\n",
              "      <td>yes</td>\n",
              "      <td>ckd</td>\n",
              "    </tr>\n",
              "    <tr>\n",
              "      <th>3</th>\n",
              "      <td>3</td>\n",
              "      <td>48.0</td>\n",
              "      <td>70.0</td>\n",
              "      <td>1.005</td>\n",
              "      <td>4.0</td>\n",
              "      <td>0.0</td>\n",
              "      <td>normal</td>\n",
              "      <td>abnormal</td>\n",
              "      <td>present</td>\n",
              "      <td>notpresent</td>\n",
              "      <td>...</td>\n",
              "      <td>32</td>\n",
              "      <td>6700</td>\n",
              "      <td>3.9</td>\n",
              "      <td>yes</td>\n",
              "      <td>no</td>\n",
              "      <td>no</td>\n",
              "      <td>poor</td>\n",
              "      <td>yes</td>\n",
              "      <td>yes</td>\n",
              "      <td>ckd</td>\n",
              "    </tr>\n",
              "    <tr>\n",
              "      <th>4</th>\n",
              "      <td>4</td>\n",
              "      <td>51.0</td>\n",
              "      <td>80.0</td>\n",
              "      <td>1.010</td>\n",
              "      <td>2.0</td>\n",
              "      <td>0.0</td>\n",
              "      <td>normal</td>\n",
              "      <td>normal</td>\n",
              "      <td>notpresent</td>\n",
              "      <td>notpresent</td>\n",
              "      <td>...</td>\n",
              "      <td>35</td>\n",
              "      <td>7300</td>\n",
              "      <td>4.6</td>\n",
              "      <td>no</td>\n",
              "      <td>no</td>\n",
              "      <td>no</td>\n",
              "      <td>good</td>\n",
              "      <td>no</td>\n",
              "      <td>no</td>\n",
              "      <td>ckd</td>\n",
              "    </tr>\n",
              "  </tbody>\n",
              "</table>\n",
              "<p>5 rows × 26 columns</p>\n",
              "</div>\n",
              "      <button class=\"colab-df-convert\" onclick=\"convertToInteractive('df-fc6cc42c-06aa-4e66-9b36-a6a53f931dad')\"\n",
              "              title=\"Convert this dataframe to an interactive table.\"\n",
              "              style=\"display:none;\">\n",
              "        \n",
              "  <svg xmlns=\"http://www.w3.org/2000/svg\" height=\"24px\"viewBox=\"0 0 24 24\"\n",
              "       width=\"24px\">\n",
              "    <path d=\"M0 0h24v24H0V0z\" fill=\"none\"/>\n",
              "    <path d=\"M18.56 5.44l.94 2.06.94-2.06 2.06-.94-2.06-.94-.94-2.06-.94 2.06-2.06.94zm-11 1L8.5 8.5l.94-2.06 2.06-.94-2.06-.94L8.5 2.5l-.94 2.06-2.06.94zm10 10l.94 2.06.94-2.06 2.06-.94-2.06-.94-.94-2.06-.94 2.06-2.06.94z\"/><path d=\"M17.41 7.96l-1.37-1.37c-.4-.4-.92-.59-1.43-.59-.52 0-1.04.2-1.43.59L10.3 9.45l-7.72 7.72c-.78.78-.78 2.05 0 2.83L4 21.41c.39.39.9.59 1.41.59.51 0 1.02-.2 1.41-.59l7.78-7.78 2.81-2.81c.8-.78.8-2.07 0-2.86zM5.41 20L4 18.59l7.72-7.72 1.47 1.35L5.41 20z\"/>\n",
              "  </svg>\n",
              "      </button>\n",
              "      \n",
              "  <style>\n",
              "    .colab-df-container {\n",
              "      display:flex;\n",
              "      flex-wrap:wrap;\n",
              "      gap: 12px;\n",
              "    }\n",
              "\n",
              "    .colab-df-convert {\n",
              "      background-color: #E8F0FE;\n",
              "      border: none;\n",
              "      border-radius: 50%;\n",
              "      cursor: pointer;\n",
              "      display: none;\n",
              "      fill: #1967D2;\n",
              "      height: 32px;\n",
              "      padding: 0 0 0 0;\n",
              "      width: 32px;\n",
              "    }\n",
              "\n",
              "    .colab-df-convert:hover {\n",
              "      background-color: #E2EBFA;\n",
              "      box-shadow: 0px 1px 2px rgba(60, 64, 67, 0.3), 0px 1px 3px 1px rgba(60, 64, 67, 0.15);\n",
              "      fill: #174EA6;\n",
              "    }\n",
              "\n",
              "    [theme=dark] .colab-df-convert {\n",
              "      background-color: #3B4455;\n",
              "      fill: #D2E3FC;\n",
              "    }\n",
              "\n",
              "    [theme=dark] .colab-df-convert:hover {\n",
              "      background-color: #434B5C;\n",
              "      box-shadow: 0px 1px 3px 1px rgba(0, 0, 0, 0.15);\n",
              "      filter: drop-shadow(0px 1px 2px rgba(0, 0, 0, 0.3));\n",
              "      fill: #FFFFFF;\n",
              "    }\n",
              "  </style>\n",
              "\n",
              "      <script>\n",
              "        const buttonEl =\n",
              "          document.querySelector('#df-fc6cc42c-06aa-4e66-9b36-a6a53f931dad button.colab-df-convert');\n",
              "        buttonEl.style.display =\n",
              "          google.colab.kernel.accessAllowed ? 'block' : 'none';\n",
              "\n",
              "        async function convertToInteractive(key) {\n",
              "          const element = document.querySelector('#df-fc6cc42c-06aa-4e66-9b36-a6a53f931dad');\n",
              "          const dataTable =\n",
              "            await google.colab.kernel.invokeFunction('convertToInteractive',\n",
              "                                                     [key], {});\n",
              "          if (!dataTable) return;\n",
              "\n",
              "          const docLinkHtml = 'Like what you see? Visit the ' +\n",
              "            '<a target=\"_blank\" href=https://colab.research.google.com/notebooks/data_table.ipynb>data table notebook</a>'\n",
              "            + ' to learn more about interactive tables.';\n",
              "          element.innerHTML = '';\n",
              "          dataTable['output_type'] = 'display_data';\n",
              "          await google.colab.output.renderOutput(dataTable, element);\n",
              "          const docLink = document.createElement('div');\n",
              "          docLink.innerHTML = docLinkHtml;\n",
              "          element.appendChild(docLink);\n",
              "        }\n",
              "      </script>\n",
              "    </div>\n",
              "  </div>\n",
              "  "
            ]
          },
          "metadata": {},
          "execution_count": 3
        }
      ],
      "source": [
        "# loading data\n",
        "\n",
        "df= pd.read_csv('/content/drive/MyDrive/DML/emon/kidney_disease.csv')\n",
        "df.head()"
      ]
    },
    {
      "cell_type": "code",
      "execution_count": null,
      "id": "c7a54143",
      "metadata": {
        "colab": {
          "base_uri": "https://localhost:8080/"
        },
        "id": "c7a54143",
        "outputId": "9220a709-2836-4ed1-bd9a-b945411b172b"
      },
      "outputs": [
        {
          "output_type": "execute_result",
          "data": {
            "text/plain": [
              "(400, 26)"
            ]
          },
          "metadata": {},
          "execution_count": 4
        }
      ],
      "source": [
        "df.shape"
      ]
    },
    {
      "cell_type": "code",
      "execution_count": null,
      "id": "a2142b9e",
      "metadata": {
        "id": "a2142b9e"
      },
      "outputs": [],
      "source": [
        "# dropping id column\n",
        "df.drop('id', axis = 1, inplace = True)"
      ]
    },
    {
      "cell_type": "code",
      "execution_count": null,
      "id": "07a84f5d",
      "metadata": {
        "id": "07a84f5d"
      },
      "outputs": [],
      "source": [
        "# rename column names to make it more user-friendly\n",
        "\n",
        "df.columns = ['age', 'blood_pressure', 'specific_gravity', 'albumin', 'sugar', 'red_blood_cells', 'pus_cell',\n",
        "              'pus_cell_clumps', 'bacteria', 'blood_glucose_random', 'blood_urea', 'serum_creatinine', 'sodium',\n",
        "              'potassium', 'haemoglobin', 'packed_cell_volume', 'white_blood_cell_count', 'red_blood_cell_count',\n",
        "              'hypertension', 'diabetes_mellitus', 'coronary_artery_disease', 'appetite', 'peda_edema',\n",
        "              'aanemia', 'class']"
      ]
    },
    {
      "cell_type": "code",
      "execution_count": null,
      "id": "68d8ee8b",
      "metadata": {
        "colab": {
          "base_uri": "https://localhost:8080/",
          "height": 300
        },
        "id": "68d8ee8b",
        "outputId": "b6154b5f-de49-4c25-ff80-27b3f00f652e"
      },
      "outputs": [
        {
          "output_type": "execute_result",
          "data": {
            "text/plain": [
              "    age  blood_pressure  specific_gravity  albumin  sugar red_blood_cells  \\\n",
              "0  48.0            80.0             1.020      1.0    0.0             NaN   \n",
              "1   7.0            50.0             1.020      4.0    0.0             NaN   \n",
              "2  62.0            80.0             1.010      2.0    3.0          normal   \n",
              "3  48.0            70.0             1.005      4.0    0.0          normal   \n",
              "4  51.0            80.0             1.010      2.0    0.0          normal   \n",
              "\n",
              "   pus_cell pus_cell_clumps    bacteria  blood_glucose_random  ...  \\\n",
              "0    normal      notpresent  notpresent                 121.0  ...   \n",
              "1    normal      notpresent  notpresent                   NaN  ...   \n",
              "2    normal      notpresent  notpresent                 423.0  ...   \n",
              "3  abnormal         present  notpresent                 117.0  ...   \n",
              "4    normal      notpresent  notpresent                 106.0  ...   \n",
              "\n",
              "   packed_cell_volume  white_blood_cell_count  red_blood_cell_count  \\\n",
              "0                  44                    7800                   5.2   \n",
              "1                  38                    6000                   NaN   \n",
              "2                  31                    7500                   NaN   \n",
              "3                  32                    6700                   3.9   \n",
              "4                  35                    7300                   4.6   \n",
              "\n",
              "   hypertension  diabetes_mellitus coronary_artery_disease appetite  \\\n",
              "0           yes                yes                      no     good   \n",
              "1            no                 no                      no     good   \n",
              "2            no                yes                      no     poor   \n",
              "3           yes                 no                      no     poor   \n",
              "4            no                 no                      no     good   \n",
              "\n",
              "  peda_edema aanemia class  \n",
              "0         no      no   ckd  \n",
              "1         no      no   ckd  \n",
              "2         no     yes   ckd  \n",
              "3        yes     yes   ckd  \n",
              "4         no      no   ckd  \n",
              "\n",
              "[5 rows x 25 columns]"
            ],
            "text/html": [
              "\n",
              "  <div id=\"df-4c867701-6d10-44ee-9a1c-830b365e49b0\">\n",
              "    <div class=\"colab-df-container\">\n",
              "      <div>\n",
              "<style scoped>\n",
              "    .dataframe tbody tr th:only-of-type {\n",
              "        vertical-align: middle;\n",
              "    }\n",
              "\n",
              "    .dataframe tbody tr th {\n",
              "        vertical-align: top;\n",
              "    }\n",
              "\n",
              "    .dataframe thead th {\n",
              "        text-align: right;\n",
              "    }\n",
              "</style>\n",
              "<table border=\"1\" class=\"dataframe\">\n",
              "  <thead>\n",
              "    <tr style=\"text-align: right;\">\n",
              "      <th></th>\n",
              "      <th>age</th>\n",
              "      <th>blood_pressure</th>\n",
              "      <th>specific_gravity</th>\n",
              "      <th>albumin</th>\n",
              "      <th>sugar</th>\n",
              "      <th>red_blood_cells</th>\n",
              "      <th>pus_cell</th>\n",
              "      <th>pus_cell_clumps</th>\n",
              "      <th>bacteria</th>\n",
              "      <th>blood_glucose_random</th>\n",
              "      <th>...</th>\n",
              "      <th>packed_cell_volume</th>\n",
              "      <th>white_blood_cell_count</th>\n",
              "      <th>red_blood_cell_count</th>\n",
              "      <th>hypertension</th>\n",
              "      <th>diabetes_mellitus</th>\n",
              "      <th>coronary_artery_disease</th>\n",
              "      <th>appetite</th>\n",
              "      <th>peda_edema</th>\n",
              "      <th>aanemia</th>\n",
              "      <th>class</th>\n",
              "    </tr>\n",
              "  </thead>\n",
              "  <tbody>\n",
              "    <tr>\n",
              "      <th>0</th>\n",
              "      <td>48.0</td>\n",
              "      <td>80.0</td>\n",
              "      <td>1.020</td>\n",
              "      <td>1.0</td>\n",
              "      <td>0.0</td>\n",
              "      <td>NaN</td>\n",
              "      <td>normal</td>\n",
              "      <td>notpresent</td>\n",
              "      <td>notpresent</td>\n",
              "      <td>121.0</td>\n",
              "      <td>...</td>\n",
              "      <td>44</td>\n",
              "      <td>7800</td>\n",
              "      <td>5.2</td>\n",
              "      <td>yes</td>\n",
              "      <td>yes</td>\n",
              "      <td>no</td>\n",
              "      <td>good</td>\n",
              "      <td>no</td>\n",
              "      <td>no</td>\n",
              "      <td>ckd</td>\n",
              "    </tr>\n",
              "    <tr>\n",
              "      <th>1</th>\n",
              "      <td>7.0</td>\n",
              "      <td>50.0</td>\n",
              "      <td>1.020</td>\n",
              "      <td>4.0</td>\n",
              "      <td>0.0</td>\n",
              "      <td>NaN</td>\n",
              "      <td>normal</td>\n",
              "      <td>notpresent</td>\n",
              "      <td>notpresent</td>\n",
              "      <td>NaN</td>\n",
              "      <td>...</td>\n",
              "      <td>38</td>\n",
              "      <td>6000</td>\n",
              "      <td>NaN</td>\n",
              "      <td>no</td>\n",
              "      <td>no</td>\n",
              "      <td>no</td>\n",
              "      <td>good</td>\n",
              "      <td>no</td>\n",
              "      <td>no</td>\n",
              "      <td>ckd</td>\n",
              "    </tr>\n",
              "    <tr>\n",
              "      <th>2</th>\n",
              "      <td>62.0</td>\n",
              "      <td>80.0</td>\n",
              "      <td>1.010</td>\n",
              "      <td>2.0</td>\n",
              "      <td>3.0</td>\n",
              "      <td>normal</td>\n",
              "      <td>normal</td>\n",
              "      <td>notpresent</td>\n",
              "      <td>notpresent</td>\n",
              "      <td>423.0</td>\n",
              "      <td>...</td>\n",
              "      <td>31</td>\n",
              "      <td>7500</td>\n",
              "      <td>NaN</td>\n",
              "      <td>no</td>\n",
              "      <td>yes</td>\n",
              "      <td>no</td>\n",
              "      <td>poor</td>\n",
              "      <td>no</td>\n",
              "      <td>yes</td>\n",
              "      <td>ckd</td>\n",
              "    </tr>\n",
              "    <tr>\n",
              "      <th>3</th>\n",
              "      <td>48.0</td>\n",
              "      <td>70.0</td>\n",
              "      <td>1.005</td>\n",
              "      <td>4.0</td>\n",
              "      <td>0.0</td>\n",
              "      <td>normal</td>\n",
              "      <td>abnormal</td>\n",
              "      <td>present</td>\n",
              "      <td>notpresent</td>\n",
              "      <td>117.0</td>\n",
              "      <td>...</td>\n",
              "      <td>32</td>\n",
              "      <td>6700</td>\n",
              "      <td>3.9</td>\n",
              "      <td>yes</td>\n",
              "      <td>no</td>\n",
              "      <td>no</td>\n",
              "      <td>poor</td>\n",
              "      <td>yes</td>\n",
              "      <td>yes</td>\n",
              "      <td>ckd</td>\n",
              "    </tr>\n",
              "    <tr>\n",
              "      <th>4</th>\n",
              "      <td>51.0</td>\n",
              "      <td>80.0</td>\n",
              "      <td>1.010</td>\n",
              "      <td>2.0</td>\n",
              "      <td>0.0</td>\n",
              "      <td>normal</td>\n",
              "      <td>normal</td>\n",
              "      <td>notpresent</td>\n",
              "      <td>notpresent</td>\n",
              "      <td>106.0</td>\n",
              "      <td>...</td>\n",
              "      <td>35</td>\n",
              "      <td>7300</td>\n",
              "      <td>4.6</td>\n",
              "      <td>no</td>\n",
              "      <td>no</td>\n",
              "      <td>no</td>\n",
              "      <td>good</td>\n",
              "      <td>no</td>\n",
              "      <td>no</td>\n",
              "      <td>ckd</td>\n",
              "    </tr>\n",
              "  </tbody>\n",
              "</table>\n",
              "<p>5 rows × 25 columns</p>\n",
              "</div>\n",
              "      <button class=\"colab-df-convert\" onclick=\"convertToInteractive('df-4c867701-6d10-44ee-9a1c-830b365e49b0')\"\n",
              "              title=\"Convert this dataframe to an interactive table.\"\n",
              "              style=\"display:none;\">\n",
              "        \n",
              "  <svg xmlns=\"http://www.w3.org/2000/svg\" height=\"24px\"viewBox=\"0 0 24 24\"\n",
              "       width=\"24px\">\n",
              "    <path d=\"M0 0h24v24H0V0z\" fill=\"none\"/>\n",
              "    <path d=\"M18.56 5.44l.94 2.06.94-2.06 2.06-.94-2.06-.94-.94-2.06-.94 2.06-2.06.94zm-11 1L8.5 8.5l.94-2.06 2.06-.94-2.06-.94L8.5 2.5l-.94 2.06-2.06.94zm10 10l.94 2.06.94-2.06 2.06-.94-2.06-.94-.94-2.06-.94 2.06-2.06.94z\"/><path d=\"M17.41 7.96l-1.37-1.37c-.4-.4-.92-.59-1.43-.59-.52 0-1.04.2-1.43.59L10.3 9.45l-7.72 7.72c-.78.78-.78 2.05 0 2.83L4 21.41c.39.39.9.59 1.41.59.51 0 1.02-.2 1.41-.59l7.78-7.78 2.81-2.81c.8-.78.8-2.07 0-2.86zM5.41 20L4 18.59l7.72-7.72 1.47 1.35L5.41 20z\"/>\n",
              "  </svg>\n",
              "      </button>\n",
              "      \n",
              "  <style>\n",
              "    .colab-df-container {\n",
              "      display:flex;\n",
              "      flex-wrap:wrap;\n",
              "      gap: 12px;\n",
              "    }\n",
              "\n",
              "    .colab-df-convert {\n",
              "      background-color: #E8F0FE;\n",
              "      border: none;\n",
              "      border-radius: 50%;\n",
              "      cursor: pointer;\n",
              "      display: none;\n",
              "      fill: #1967D2;\n",
              "      height: 32px;\n",
              "      padding: 0 0 0 0;\n",
              "      width: 32px;\n",
              "    }\n",
              "\n",
              "    .colab-df-convert:hover {\n",
              "      background-color: #E2EBFA;\n",
              "      box-shadow: 0px 1px 2px rgba(60, 64, 67, 0.3), 0px 1px 3px 1px rgba(60, 64, 67, 0.15);\n",
              "      fill: #174EA6;\n",
              "    }\n",
              "\n",
              "    [theme=dark] .colab-df-convert {\n",
              "      background-color: #3B4455;\n",
              "      fill: #D2E3FC;\n",
              "    }\n",
              "\n",
              "    [theme=dark] .colab-df-convert:hover {\n",
              "      background-color: #434B5C;\n",
              "      box-shadow: 0px 1px 3px 1px rgba(0, 0, 0, 0.15);\n",
              "      filter: drop-shadow(0px 1px 2px rgba(0, 0, 0, 0.3));\n",
              "      fill: #FFFFFF;\n",
              "    }\n",
              "  </style>\n",
              "\n",
              "      <script>\n",
              "        const buttonEl =\n",
              "          document.querySelector('#df-4c867701-6d10-44ee-9a1c-830b365e49b0 button.colab-df-convert');\n",
              "        buttonEl.style.display =\n",
              "          google.colab.kernel.accessAllowed ? 'block' : 'none';\n",
              "\n",
              "        async function convertToInteractive(key) {\n",
              "          const element = document.querySelector('#df-4c867701-6d10-44ee-9a1c-830b365e49b0');\n",
              "          const dataTable =\n",
              "            await google.colab.kernel.invokeFunction('convertToInteractive',\n",
              "                                                     [key], {});\n",
              "          if (!dataTable) return;\n",
              "\n",
              "          const docLinkHtml = 'Like what you see? Visit the ' +\n",
              "            '<a target=\"_blank\" href=https://colab.research.google.com/notebooks/data_table.ipynb>data table notebook</a>'\n",
              "            + ' to learn more about interactive tables.';\n",
              "          element.innerHTML = '';\n",
              "          dataTable['output_type'] = 'display_data';\n",
              "          await google.colab.output.renderOutput(dataTable, element);\n",
              "          const docLink = document.createElement('div');\n",
              "          docLink.innerHTML = docLinkHtml;\n",
              "          element.appendChild(docLink);\n",
              "        }\n",
              "      </script>\n",
              "    </div>\n",
              "  </div>\n",
              "  "
            ]
          },
          "metadata": {},
          "execution_count": 7
        }
      ],
      "source": [
        "df.head()"
      ]
    },
    {
      "cell_type": "code",
      "execution_count": null,
      "id": "76413f53",
      "metadata": {
        "colab": {
          "base_uri": "https://localhost:8080/"
        },
        "id": "76413f53",
        "outputId": "d9490187-b98d-43fd-e85a-9bdc4886fe1a"
      },
      "outputs": [
        {
          "output_type": "stream",
          "name": "stdout",
          "text": [
            "<class 'pandas.core.frame.DataFrame'>\n",
            "RangeIndex: 400 entries, 0 to 399\n",
            "Data columns (total 25 columns):\n",
            " #   Column                   Non-Null Count  Dtype  \n",
            "---  ------                   --------------  -----  \n",
            " 0   age                      391 non-null    float64\n",
            " 1   blood_pressure           388 non-null    float64\n",
            " 2   specific_gravity         353 non-null    float64\n",
            " 3   albumin                  354 non-null    float64\n",
            " 4   sugar                    351 non-null    float64\n",
            " 5   red_blood_cells          248 non-null    object \n",
            " 6   pus_cell                 335 non-null    object \n",
            " 7   pus_cell_clumps          396 non-null    object \n",
            " 8   bacteria                 396 non-null    object \n",
            " 9   blood_glucose_random     356 non-null    float64\n",
            " 10  blood_urea               381 non-null    float64\n",
            " 11  serum_creatinine         383 non-null    float64\n",
            " 12  sodium                   313 non-null    float64\n",
            " 13  potassium                312 non-null    float64\n",
            " 14  haemoglobin              348 non-null    float64\n",
            " 15  packed_cell_volume       330 non-null    object \n",
            " 16  white_blood_cell_count   295 non-null    object \n",
            " 17  red_blood_cell_count     270 non-null    object \n",
            " 18  hypertension             398 non-null    object \n",
            " 19  diabetes_mellitus        398 non-null    object \n",
            " 20  coronary_artery_disease  398 non-null    object \n",
            " 21  appetite                 399 non-null    object \n",
            " 22  peda_edema               399 non-null    object \n",
            " 23  aanemia                  399 non-null    object \n",
            " 24  class                    400 non-null    object \n",
            "dtypes: float64(11), object(14)\n",
            "memory usage: 78.2+ KB\n"
          ]
        }
      ],
      "source": [
        "df.info()"
      ]
    },
    {
      "cell_type": "markdown",
      "id": "369d68b7",
      "metadata": {
        "id": "369d68b7"
      },
      "source": [
        "<p style = \"font-size : 20px; color : #34656d ; font-family : 'Comic Sans MS'; \"><strong>As we can see that 'packed_cell_volume', 'white_blood_cell_count' and 'red_blood_cell_count'  are object type. We need to change them to numerical dtype.</strong></p>"
      ]
    },
    {
      "cell_type": "code",
      "execution_count": null,
      "id": "8f28e32f",
      "metadata": {
        "id": "8f28e32f"
      },
      "outputs": [],
      "source": [
        "# converting necessary columns to numerical type\n",
        "\n",
        "df['packed_cell_volume'] = pd.to_numeric(df['packed_cell_volume'], errors='coerce')\n",
        "df['white_blood_cell_count'] = pd.to_numeric(df['white_blood_cell_count'], errors='coerce')\n",
        "df['red_blood_cell_count'] = pd.to_numeric(df['red_blood_cell_count'], errors='coerce')"
      ]
    },
    {
      "cell_type": "code",
      "execution_count": null,
      "id": "61b30220",
      "metadata": {
        "colab": {
          "base_uri": "https://localhost:8080/"
        },
        "id": "61b30220",
        "outputId": "42ecd734-d18e-47a8-a365-d02ab83ea959"
      },
      "outputs": [
        {
          "output_type": "stream",
          "name": "stdout",
          "text": [
            "<class 'pandas.core.frame.DataFrame'>\n",
            "RangeIndex: 400 entries, 0 to 399\n",
            "Data columns (total 25 columns):\n",
            " #   Column                   Non-Null Count  Dtype  \n",
            "---  ------                   --------------  -----  \n",
            " 0   age                      391 non-null    float64\n",
            " 1   blood_pressure           388 non-null    float64\n",
            " 2   specific_gravity         353 non-null    float64\n",
            " 3   albumin                  354 non-null    float64\n",
            " 4   sugar                    351 non-null    float64\n",
            " 5   red_blood_cells          248 non-null    object \n",
            " 6   pus_cell                 335 non-null    object \n",
            " 7   pus_cell_clumps          396 non-null    object \n",
            " 8   bacteria                 396 non-null    object \n",
            " 9   blood_glucose_random     356 non-null    float64\n",
            " 10  blood_urea               381 non-null    float64\n",
            " 11  serum_creatinine         383 non-null    float64\n",
            " 12  sodium                   313 non-null    float64\n",
            " 13  potassium                312 non-null    float64\n",
            " 14  haemoglobin              348 non-null    float64\n",
            " 15  packed_cell_volume       329 non-null    float64\n",
            " 16  white_blood_cell_count   294 non-null    float64\n",
            " 17  red_blood_cell_count     269 non-null    float64\n",
            " 18  hypertension             398 non-null    object \n",
            " 19  diabetes_mellitus        398 non-null    object \n",
            " 20  coronary_artery_disease  398 non-null    object \n",
            " 21  appetite                 399 non-null    object \n",
            " 22  peda_edema               399 non-null    object \n",
            " 23  aanemia                  399 non-null    object \n",
            " 24  class                    400 non-null    object \n",
            "dtypes: float64(14), object(11)\n",
            "memory usage: 78.2+ KB\n"
          ]
        }
      ],
      "source": [
        "df.info()"
      ]
    },
    {
      "cell_type": "code",
      "execution_count": null,
      "id": "a8ecb092",
      "metadata": {
        "colab": {
          "base_uri": "https://localhost:8080/"
        },
        "id": "a8ecb092",
        "outputId": "cdae0f92-0aed-483c-c71d-a7ee06e39c21"
      },
      "outputs": [
        {
          "output_type": "execute_result",
          "data": {
            "text/plain": [
              "age                          9\n",
              "blood_pressure              12\n",
              "specific_gravity            47\n",
              "albumin                     46\n",
              "sugar                       49\n",
              "red_blood_cells            152\n",
              "pus_cell                    65\n",
              "pus_cell_clumps              4\n",
              "bacteria                     4\n",
              "blood_glucose_random        44\n",
              "blood_urea                  19\n",
              "serum_creatinine            17\n",
              "sodium                      87\n",
              "potassium                   88\n",
              "haemoglobin                 52\n",
              "packed_cell_volume          71\n",
              "white_blood_cell_count     106\n",
              "red_blood_cell_count       131\n",
              "hypertension                 2\n",
              "diabetes_mellitus            2\n",
              "coronary_artery_disease      2\n",
              "appetite                     1\n",
              "peda_edema                   1\n",
              "aanemia                      1\n",
              "class                        0\n",
              "dtype: int64"
            ]
          },
          "metadata": {},
          "execution_count": 12
        }
      ],
      "source": [
        "df.isna().sum()"
      ]
    },
    {
      "cell_type": "code",
      "execution_count": null,
      "id": "c419242f",
      "metadata": {
        "id": "c419242f"
      },
      "outputs": [],
      "source": [
        "# Extracting categorical and numerical columns\n",
        "\n",
        "cat_cols = [col for col in df.columns if df[col].dtype == 'object']\n",
        "num_cols = [col for col in df.columns if df[col].dtype != 'object']"
      ]
    },
    {
      "cell_type": "code",
      "execution_count": null,
      "id": "f754b17f",
      "metadata": {
        "colab": {
          "base_uri": "https://localhost:8080/"
        },
        "id": "f754b17f",
        "outputId": "c1c671ee-4123-4d4b-8573-a51fe38ca7bc"
      },
      "outputs": [
        {
          "output_type": "stream",
          "name": "stdout",
          "text": [
            "red_blood_cells has [nan 'normal' 'abnormal'] values\n",
            "\n",
            "pus_cell has ['normal' 'abnormal' nan] values\n",
            "\n",
            "pus_cell_clumps has ['notpresent' 'present' nan] values\n",
            "\n",
            "bacteria has ['notpresent' 'present' nan] values\n",
            "\n",
            "hypertension has ['yes' 'no' nan] values\n",
            "\n",
            "diabetes_mellitus has ['yes' 'no' ' yes' '\\tno' '\\tyes' nan] values\n",
            "\n",
            "coronary_artery_disease has ['no' 'yes' '\\tno' nan] values\n",
            "\n",
            "appetite has ['good' 'poor' nan] values\n",
            "\n",
            "peda_edema has ['no' 'yes' nan] values\n",
            "\n",
            "aanemia has ['no' 'yes' nan] values\n",
            "\n",
            "class has ['ckd' 'ckd\\t' 'notckd'] values\n",
            "\n"
          ]
        }
      ],
      "source": [
        "# looking at unique values in categorical columns\n",
        "\n",
        "for col in cat_cols:\n",
        "    print(f\"{col} has {df[col].unique()} values\\n\")"
      ]
    },
    {
      "cell_type": "markdown",
      "id": "74a090a0",
      "metadata": {
        "id": "74a090a0"
      },
      "source": [
        "<p style = \"font-size : 20px; color : #34656d ; font-family : 'Comic Sans MS'; \"><strong>There is some ambugity present in the columns we have to remove that.</strong></p>"
      ]
    },
    {
      "cell_type": "code",
      "execution_count": null,
      "id": "9685ff4a",
      "metadata": {
        "id": "9685ff4a"
      },
      "outputs": [],
      "source": [
        "# replace incorrect values\n",
        "\n",
        "df['diabetes_mellitus'].replace(to_replace = {'\\tno':'no','\\tyes':'yes',' yes':'yes'},inplace=True)\n",
        "\n",
        "df['coronary_artery_disease'] = df['coronary_artery_disease'].replace(to_replace = '\\tno', value='no')\n",
        "\n",
        "df['class'] = df['class'].replace(to_replace = {'ckd\\t': 'ckd', 'notckd': 'not ckd'})"
      ]
    },
    {
      "cell_type": "code",
      "execution_count": null,
      "id": "223ae9c3",
      "metadata": {
        "id": "223ae9c3"
      },
      "outputs": [],
      "source": [
        "df['class'] = df['class'].map({'ckd': 0, 'not ckd': 1})\n",
        "df['class'] = pd.to_numeric(df['class'], errors='coerce')"
      ]
    },
    {
      "cell_type": "code",
      "execution_count": null,
      "id": "16e7f4b5",
      "metadata": {
        "colab": {
          "base_uri": "https://localhost:8080/"
        },
        "id": "16e7f4b5",
        "outputId": "48988fce-e310-4c3a-9036-122e4dd1757b"
      },
      "outputs": [
        {
          "output_type": "stream",
          "name": "stdout",
          "text": [
            "diabetes_mellitus has ['yes' 'no' nan] values\n",
            "\n",
            "coronary_artery_disease has ['no' 'yes' nan] values\n",
            "\n",
            "class has [0 1] values\n",
            "\n"
          ]
        }
      ],
      "source": [
        "cols = ['diabetes_mellitus', 'coronary_artery_disease', 'class']\n",
        "\n",
        "for col in cols:\n",
        "    print(f\"{col} has {df[col].unique()} values\\n\")"
      ]
    },
    {
      "cell_type": "code",
      "execution_count": null,
      "id": "8730f87e",
      "metadata": {
        "colab": {
          "base_uri": "https://localhost:8080/",
          "height": 948
        },
        "id": "8730f87e",
        "outputId": "f961ef1a-078c-49ed-d038-41ac277ae859"
      },
      "outputs": [
        {
          "output_type": "display_data",
          "data": {
            "text/plain": [
              "<Figure size 1440x1080 with 14 Axes>"
            ],
            "image/png": "[encoded data removed]"
          },
          "metadata": {
            "needs_background": "light"
          }
        }
      ],
      "source": [
        "# checking numerical features distribution\n",
        "\n",
        "plt.figure(figsize = (20, 15))\n",
        "plotnumber = 1\n",
        "\n",
        "for column in num_cols:\n",
        "    if plotnumber <= 14:\n",
        "        ax = plt.subplot(3, 5, plotnumber)\n",
        "        sns.distplot(df[column])\n",
        "        plt.xlabel(column)\n",
        "\n",
        "    plotnumber += 1\n",
        "\n",
        "plt.tight_layout()\n",
        "plt.show()"
      ]
    },
    {
      "cell_type": "markdown",
      "id": "6b09bcfe",
      "metadata": {
        "id": "6b09bcfe"
      },
      "source": [
        "<p style = \"font-size : 20px; color : #34656d ; font-family : 'Comic Sans MS'; \"><strong>Skewness is present in some of the columns.</strong></p>"
      ]
    },
    {
      "cell_type": "code",
      "execution_count": null,
      "id": "a2f52c8b",
      "metadata": {
        "colab": {
          "base_uri": "https://localhost:8080/",
          "height": 948
        },
        "id": "a2f52c8b",
        "outputId": "224e0901-a9c0-40bf-e172-18e8d01dff5d"
      },
      "outputs": [
        {
          "output_type": "display_data",
          "data": {
            "text/plain": [
              "<Figure size 1440x1080 with 11 Axes>"
            ],
            "image/png": "[encoded data removed]"
          },
          "metadata": {
            "needs_background": "light"
          }
        }
      ],
      "source": [
        "# looking at categorical columns\n",
        "\n",
        "plt.figure(figsize = (20, 15))\n",
        "plotnumber = 1\n",
        "\n",
        "for column in cat_cols:\n",
        "    if plotnumber <= 11:\n",
        "        ax = plt.subplot(3, 4, plotnumber)\n",
        "        sns.countplot(df[column], palette = 'rocket')\n",
        "        plt.xlabel(column)\n",
        "\n",
        "    plotnumber += 1\n",
        "\n",
        "plt.tight_layout()\n",
        "plt.show()"
      ]
    },
    {
      "cell_type": "code",
      "execution_count": null,
      "id": "466544be",
      "metadata": {
        "colab": {
          "base_uri": "https://localhost:8080/",
          "height": 592
        },
        "id": "466544be",
        "outputId": "f5d0b03d-c76f-4b5b-bc31-3b101473ccde"
      },
      "outputs": [
        {
          "output_type": "display_data",
          "data": {
            "text/plain": [
              "<Figure size 1080x576 with 2 Axes>"
            ],
            "image/png": "[encoded data removed]"
          },
          "metadata": {
            "needs_background": "light"
          }
        }
      ],
      "source": [
        "# heatmap of data\n",
        "\n",
        "plt.figure(figsize = (15, 8))\n",
        "\n",
        "sns.heatmap(df.corr(), annot = True, linewidths = 2, linecolor = 'lightgrey')\n",
        "plt.show()"
      ]
    },
    {
      "cell_type": "markdown",
      "source": [
        "Features Elemation"
      ],
      "metadata": {
        "id": "0AaC5RWK7eBt"
      },
      "id": "0AaC5RWK7eBt"
    },
    {
      "cell_type": "code",
      "execution_count": null,
      "id": "UM9w8MaONQF9",
      "metadata": {
        "id": "UM9w8MaONQF9"
      },
      "outputs": [],
      "source": [
        "def correlation(dataset, threshold):\n",
        "    col_corr = set()  # Set of all the names of correlated columns\n",
        "    corr_matrix = dataset.corr()\n",
        "    for i in range(len(corr_matrix.columns)):\n",
        "        for j in range(i):\n",
        "            if abs(corr_matrix.iloc[i, j]) > threshold: # we are interested in absolute coeff value\n",
        "                colname = corr_matrix.columns[i]  # getting the name of column\n",
        "                col_corr.add(colname)\n",
        "    return col_corr"
      ]
    },
    {
      "cell_type": "code",
      "execution_count": null,
      "id": "XXzzYMZMNTp0",
      "metadata": {
        "colab": {
          "base_uri": "https://localhost:8080/"
        },
        "id": "XXzzYMZMNTp0",
        "outputId": "112bdfdf-5269-4289-8a39-01e2cbe24e93"
      },
      "outputs": [
        {
          "output_type": "execute_result",
          "data": {
            "text/plain": [
              "6"
            ]
          },
          "metadata": {},
          "execution_count": 22
        }
      ],
      "source": [
        "corr_features = correlation(df, 0.60)\n",
        "len(set(corr_features))"
      ]
    },
    {
      "cell_type": "code",
      "execution_count": null,
      "id": "LoEkiWTVN3mR",
      "metadata": {
        "colab": {
          "base_uri": "https://localhost:8080/"
        },
        "id": "LoEkiWTVN3mR",
        "outputId": "b06442fb-363c-4166-eb29-e850f7517673"
      },
      "outputs": [
        {
          "output_type": "execute_result",
          "data": {
            "text/plain": [
              "{'blood_glucose_random',\n",
              " 'class',\n",
              " 'haemoglobin',\n",
              " 'packed_cell_volume',\n",
              " 'red_blood_cell_count',\n",
              " 'sodium'}"
            ]
          },
          "metadata": {},
          "execution_count": 23
        }
      ],
      "source": [
        "corr_features"
      ]
    },
    {
      "cell_type": "code",
      "execution_count": null,
      "id": "RyeQzjmX5dUX",
      "metadata": {
        "id": "RyeQzjmX5dUX"
      },
      "outputs": [],
      "source": [
        "corr_features.remove('class')"
      ]
    },
    {
      "cell_type": "code",
      "execution_count": null,
      "id": "Lv8gYUMr5n-F",
      "metadata": {
        "colab": {
          "base_uri": "https://localhost:8080/"
        },
        "id": "Lv8gYUMr5n-F",
        "outputId": "839eb01b-d498-4574-c42f-ea776199dc5f"
      },
      "outputs": [
        {
          "output_type": "execute_result",
          "data": {
            "text/plain": [
              "{'blood_glucose_random',\n",
              " 'haemoglobin',\n",
              " 'packed_cell_volume',\n",
              " 'red_blood_cell_count',\n",
              " 'sodium'}"
            ]
          },
          "metadata": {},
          "execution_count": 25
        }
      ],
      "source": [
        "corr_features"
      ]
    },
    {
      "cell_type": "code",
      "execution_count": null,
      "id": "2OEFWlpVmA8k",
      "metadata": {
        "id": "2OEFWlpVmA8k"
      },
      "outputs": [],
      "source": [
        "df2=df.drop(corr_features,axis=1)"
      ]
    },
    {
      "cell_type": "code",
      "execution_count": null,
      "id": "iHgcJdewdnDC",
      "metadata": {
        "colab": {
          "base_uri": "https://localhost:8080/",
          "height": 270
        },
        "id": "iHgcJdewdnDC",
        "outputId": "f161dd68-2cab-4af2-d88c-70f29cf91304"
      },
      "outputs": [
        {
          "output_type": "execute_result",
          "data": {
            "text/plain": [
              "    age  blood_pressure  specific_gravity  albumin  sugar red_blood_cells  \\\n",
              "0  48.0            80.0             1.020      1.0    0.0             NaN   \n",
              "1   7.0            50.0             1.020      4.0    0.0             NaN   \n",
              "2  62.0            80.0             1.010      2.0    3.0          normal   \n",
              "3  48.0            70.0             1.005      4.0    0.0          normal   \n",
              "4  51.0            80.0             1.010      2.0    0.0          normal   \n",
              "\n",
              "   pus_cell pus_cell_clumps    bacteria  blood_urea  serum_creatinine  \\\n",
              "0    normal      notpresent  notpresent        36.0               1.2   \n",
              "1    normal      notpresent  notpresent        18.0               0.8   \n",
              "2    normal      notpresent  notpresent        53.0               1.8   \n",
              "3  abnormal         present  notpresent        56.0               3.8   \n",
              "4    normal      notpresent  notpresent        26.0               1.4   \n",
              "\n",
              "   potassium  white_blood_cell_count hypertension diabetes_mellitus  \\\n",
              "0        NaN                  7800.0          yes               yes   \n",
              "1        NaN                  6000.0           no                no   \n",
              "2        NaN                  7500.0           no               yes   \n",
              "3        2.5                  6700.0          yes                no   \n",
              "4        NaN                  7300.0           no                no   \n",
              "\n",
              "  coronary_artery_disease appetite peda_edema aanemia  class  \n",
              "0                      no     good         no      no      0  \n",
              "1                      no     good         no      no      0  \n",
              "2                      no     poor         no     yes      0  \n",
              "3                      no     poor        yes     yes      0  \n",
              "4                      no     good         no      no      0  "
            ],
            "text/html": [
              "\n",
              "  <div id=\"df-dd61d494-6b1b-4880-b835-f71c45c861b4\">\n",
              "    <div class=\"colab-df-container\">\n",
              "      <div>\n",
              "<style scoped>\n",
              "    .dataframe tbody tr th:only-of-type {\n",
              "        vertical-align: middle;\n",
              "    }\n",
              "\n",
              "    .dataframe tbody tr th {\n",
              "        vertical-align: top;\n",
              "    }\n",
              "\n",
              "    .dataframe thead th {\n",
              "        text-align: right;\n",
              "    }\n",
              "</style>\n",
              "<table border=\"1\" class=\"dataframe\">\n",
              "  <thead>\n",
              "    <tr style=\"text-align: right;\">\n",
              "      <th></th>\n",
              "      <th>age</th>\n",
              "      <th>blood_pressure</th>\n",
              "      <th>specific_gravity</th>\n",
              "      <th>albumin</th>\n",
              "      <th>sugar</th>\n",
              "      <th>red_blood_cells</th>\n",
              "      <th>pus_cell</th>\n",
              "      <th>pus_cell_clumps</th>\n",
              "      <th>bacteria</th>\n",
              "      <th>blood_urea</th>\n",
              "      <th>serum_creatinine</th>\n",
              "      <th>potassium</th>\n",
              "      <th>white_blood_cell_count</th>\n",
              "      <th>hypertension</th>\n",
              "      <th>diabetes_mellitus</th>\n",
              "      <th>coronary_artery_disease</th>\n",
              "      <th>appetite</th>\n",
              "      <th>peda_edema</th>\n",
              "      <th>aanemia</th>\n",
              "      <th>class</th>\n",
              "    </tr>\n",
              "  </thead>\n",
              "  <tbody>\n",
              "    <tr>\n",
              "      <th>0</th>\n",
              "      <td>48.0</td>\n",
              "      <td>80.0</td>\n",
              "      <td>1.020</td>\n",
              "      <td>1.0</td>\n",
              "      <td>0.0</td>\n",
              "      <td>NaN</td>\n",
              "      <td>normal</td>\n",
              "      <td>notpresent</td>\n",
              "      <td>notpresent</td>\n",
              "      <td>36.0</td>\n",
              "      <td>1.2</td>\n",
              "      <td>NaN</td>\n",
              "      <td>7800.0</td>\n",
              "      <td>yes</td>\n",
              "      <td>yes</td>\n",
              "      <td>no</td>\n",
              "      <td>good</td>\n",
              "      <td>no</td>\n",
              "      <td>no</td>\n",
              "      <td>0</td>\n",
              "    </tr>\n",
              "    <tr>\n",
              "      <th>1</th>\n",
              "      <td>7.0</td>\n",
              "      <td>50.0</td>\n",
              "      <td>1.020</td>\n",
              "      <td>4.0</td>\n",
              "      <td>0.0</td>\n",
              "      <td>NaN</td>\n",
              "      <td>normal</td>\n",
              "      <td>notpresent</td>\n",
              "      <td>notpresent</td>\n",
              "      <td>18.0</td>\n",
              "      <td>0.8</td>\n",
              "      <td>NaN</td>\n",
              "      <td>6000.0</td>\n",
              "      <td>no</td>\n",
              "      <td>no</td>\n",
              "      <td>no</td>\n",
              "      <td>good</td>\n",
              "      <td>no</td>\n",
              "      <td>no</td>\n",
              "      <td>0</td>\n",
              "    </tr>\n",
              "    <tr>\n",
              "      <th>2</th>\n",
              "      <td>62.0</td>\n",
              "      <td>80.0</td>\n",
              "      <td>1.010</td>\n",
              "      <td>2.0</td>\n",
              "      <td>3.0</td>\n",
              "      <td>normal</td>\n",
              "      <td>normal</td>\n",
              "      <td>notpresent</td>\n",
              "      <td>notpresent</td>\n",
              "      <td>53.0</td>\n",
              "      <td>1.8</td>\n",
              "      <td>NaN</td>\n",
              "      <td>7500.0</td>\n",
              "      <td>no</td>\n",
              "      <td>yes</td>\n",
              "      <td>no</td>\n",
              "      <td>poor</td>\n",
              "      <td>no</td>\n",
              "      <td>yes</td>\n",
              "      <td>0</td>\n",
              "    </tr>\n",
              "    <tr>\n",
              "      <th>3</th>\n",
              "      <td>48.0</td>\n",
              "      <td>70.0</td>\n",
              "      <td>1.005</td>\n",
              "      <td>4.0</td>\n",
              "      <td>0.0</td>\n",
              "      <td>normal</td>\n",
              "      <td>abnormal</td>\n",
              "      <td>present</td>\n",
              "      <td>notpresent</td>\n",
              "      <td>56.0</td>\n",
              "      <td>3.8</td>\n",
              "      <td>2.5</td>\n",
              "      <td>6700.0</td>\n",
              "      <td>yes</td>\n",
              "      <td>no</td>\n",
              "      <td>no</td>\n",
              "      <td>poor</td>\n",
              "      <td>yes</td>\n",
              "      <td>yes</td>\n",
              "      <td>0</td>\n",
              "    </tr>\n",
              "    <tr>\n",
              "      <th>4</th>\n",
              "      <td>51.0</td>\n",
              "      <td>80.0</td>\n",
              "      <td>1.010</td>\n",
              "      <td>2.0</td>\n",
              "      <td>0.0</td>\n",
              "      <td>normal</td>\n",
              "      <td>normal</td>\n",
              "      <td>notpresent</td>\n",
              "      <td>notpresent</td>\n",
              "      <td>26.0</td>\n",
              "      <td>1.4</td>\n",
              "      <td>NaN</td>\n",
              "      <td>7300.0</td>\n",
              "      <td>no</td>\n",
              "      <td>no</td>\n",
              "      <td>no</td>\n",
              "      <td>good</td>\n",
              "      <td>no</td>\n",
              "      <td>no</td>\n",
              "      <td>0</td>\n",
              "    </tr>\n",
              "  </tbody>\n",
              "</table>\n",
              "</div>\n",
              "      <button class=\"colab-df-convert\" onclick=\"convertToInteractive('df-dd61d494-6b1b-4880-b835-f71c45c861b4')\"\n",
              "              title=\"Convert this dataframe to an interactive table.\"\n",
              "              style=\"display:none;\">\n",
              "        \n",
              "  <svg xmlns=\"http://www.w3.org/2000/svg\" height=\"24px\"viewBox=\"0 0 24 24\"\n",
              "       width=\"24px\">\n",
              "    <path d=\"M0 0h24v24H0V0z\" fill=\"none\"/>\n",
              "    <path d=\"M18.56 5.44l.94 2.06.94-2.06 2.06-.94-2.06-.94-.94-2.06-.94 2.06-2.06.94zm-11 1L8.5 8.5l.94-2.06 2.06-.94-2.06-.94L8.5 2.5l-.94 2.06-2.06.94zm10 10l.94 2.06.94-2.06 2.06-.94-2.06-.94-.94-2.06-.94 2.06-2.06.94z\"/><path d=\"M17.41 7.96l-1.37-1.37c-.4-.4-.92-.59-1.43-.59-.52 0-1.04.2-1.43.59L10.3 9.45l-7.72 7.72c-.78.78-.78 2.05 0 2.83L4 21.41c.39.39.9.59 1.41.59.51 0 1.02-.2 1.41-.59l7.78-7.78 2.81-2.81c.8-.78.8-2.07 0-2.86zM5.41 20L4 18.59l7.72-7.72 1.47 1.35L5.41 20z\"/>\n",
              "  </svg>\n",
              "      </button>\n",
              "      \n",
              "  <style>\n",
              "    .colab-df-container {\n",
              "      display:flex;\n",
              "      flex-wrap:wrap;\n",
              "      gap: 12px;\n",
              "    }\n",
              "\n",
              "    .colab-df-convert {\n",
              "      background-color: #E8F0FE;\n",
              "      border: none;\n",
              "      border-radius: 50%;\n",
              "      cursor: pointer;\n",
              "      display: none;\n",
              "      fill: #1967D2;\n",
              "      height: 32px;\n",
              "      padding: 0 0 0 0;\n",
              "      width: 32px;\n",
              "    }\n",
              "\n",
              "    .colab-df-convert:hover {\n",
              "      background-color: #E2EBFA;\n",
              "      box-shadow: 0px 1px 2px rgba(60, 64, 67, 0.3), 0px 1px 3px 1px rgba(60, 64, 67, 0.15);\n",
              "      fill: #174EA6;\n",
              "    }\n",
              "\n",
              "    [theme=dark] .colab-df-convert {\n",
              "      background-color: #3B4455;\n",
              "      fill: #D2E3FC;\n",
              "    }\n",
              "\n",
              "    [theme=dark] .colab-df-convert:hover {\n",
              "      background-color: #434B5C;\n",
              "      box-shadow: 0px 1px 3px 1px rgba(0, 0, 0, 0.15);\n",
              "      filter: drop-shadow(0px 1px 2px rgba(0, 0, 0, 0.3));\n",
              "      fill: #FFFFFF;\n",
              "    }\n",
              "  </style>\n",
              "\n",
              "      <script>\n",
              "        const buttonEl =\n",
              "          document.querySelector('#df-dd61d494-6b1b-4880-b835-f71c45c861b4 button.colab-df-convert');\n",
              "        buttonEl.style.display =\n",
              "          google.colab.kernel.accessAllowed ? 'block' : 'none';\n",
              "\n",
              "        async function convertToInteractive(key) {\n",
              "          const element = document.querySelector('#df-dd61d494-6b1b-4880-b835-f71c45c861b4');\n",
              "          const dataTable =\n",
              "            await google.colab.kernel.invokeFunction('convertToInteractive',\n",
              "                                                     [key], {});\n",
              "          if (!dataTable) return;\n",
              "\n",
              "          const docLinkHtml = 'Like what you see? Visit the ' +\n",
              "            '<a target=\"_blank\" href=https://colab.research.google.com/notebooks/data_table.ipynb>data table notebook</a>'\n",
              "            + ' to learn more about interactive tables.';\n",
              "          element.innerHTML = '';\n",
              "          dataTable['output_type'] = 'display_data';\n",
              "          await google.colab.output.renderOutput(dataTable, element);\n",
              "          const docLink = document.createElement('div');\n",
              "          docLink.innerHTML = docLinkHtml;\n",
              "          element.appendChild(docLink);\n",
              "        }\n",
              "      </script>\n",
              "    </div>\n",
              "  </div>\n",
              "  "
            ]
          },
          "metadata": {},
          "execution_count": 27
        }
      ],
      "source": [
        "df2.head()"
      ]
    },
    {
      "cell_type": "markdown",
      "id": "0f407857",
      "metadata": {
        "id": "0f407857"
      },
      "source": [
        "<a id = '3.0'></a>\n",
        "<p style = \"font-size : 40px; color : #34656d ; font-family : 'Comic Sans MS'; text-align : center; background-color : #f9b208; border-radius: 5px 5px;\"><strong>Data Pre Processing</strong></p>"
      ]
    },
    {
      "cell_type": "code",
      "execution_count": null,
      "id": "hx_c2s1_XSfg",
      "metadata": {
        "id": "hx_c2s1_XSfg"
      },
      "outputs": [],
      "source": [
        "# Extracting categorical and numerical columns\n",
        "\n",
        "cat_cols2 = [col for col in df2.columns if df2[col].dtype == 'object']\n",
        "num_cols2 = [col for col in df2.columns if df2[col].dtype != 'object']"
      ]
    },
    {
      "cell_type": "code",
      "execution_count": null,
      "id": "f80213d4",
      "metadata": {
        "colab": {
          "base_uri": "https://localhost:8080/"
        },
        "id": "f80213d4",
        "outputId": "0cedda1c-21ff-43a2-fac3-ddde82fd7891"
      },
      "outputs": [
        {
          "output_type": "execute_result",
          "data": {
            "text/plain": [
              "red_blood_cells            152\n",
              "white_blood_cell_count     106\n",
              "potassium                   88\n",
              "pus_cell                    65\n",
              "sugar                       49\n",
              "specific_gravity            47\n",
              "albumin                     46\n",
              "blood_urea                  19\n",
              "serum_creatinine            17\n",
              "blood_pressure              12\n",
              "age                          9\n",
              "bacteria                     4\n",
              "pus_cell_clumps              4\n",
              "hypertension                 2\n",
              "diabetes_mellitus            2\n",
              "coronary_artery_disease      2\n",
              "appetite                     1\n",
              "peda_edema                   1\n",
              "aanemia                      1\n",
              "class                        0\n",
              "dtype: int64"
            ]
          },
          "metadata": {},
          "execution_count": 29
        }
      ],
      "source": [
        "# checking for null values\n",
        "\n",
        "df2.isna().sum().sort_values(ascending = False)"
      ]
    },
    {
      "cell_type": "code",
      "execution_count": null,
      "id": "ba098c4d",
      "metadata": {
        "colab": {
          "base_uri": "https://localhost:8080/"
        },
        "id": "ba098c4d",
        "outputId": "b3a425cc-8c5d-4cc3-f28b-01f0a2fb1ce5"
      },
      "outputs": [
        {
          "output_type": "execute_result",
          "data": {
            "text/plain": [
              "age                         9\n",
              "blood_pressure             12\n",
              "specific_gravity           47\n",
              "albumin                    46\n",
              "sugar                      49\n",
              "blood_urea                 19\n",
              "serum_creatinine           17\n",
              "potassium                  88\n",
              "white_blood_cell_count    106\n",
              "class                       0\n",
              "dtype: int64"
            ]
          },
          "metadata": {},
          "execution_count": 30
        }
      ],
      "source": [
        "df2[num_cols2].isnull().sum()"
      ]
    },
    {
      "cell_type": "code",
      "execution_count": null,
      "id": "53fd363f",
      "metadata": {
        "colab": {
          "base_uri": "https://localhost:8080/"
        },
        "id": "53fd363f",
        "outputId": "b16fcb3a-17e8-4654-81be-984f488ba30f"
      },
      "outputs": [
        {
          "output_type": "execute_result",
          "data": {
            "text/plain": [
              "red_blood_cells            152\n",
              "pus_cell                    65\n",
              "pus_cell_clumps              4\n",
              "bacteria                     4\n",
              "hypertension                 2\n",
              "diabetes_mellitus            2\n",
              "coronary_artery_disease      2\n",
              "appetite                     1\n",
              "peda_edema                   1\n",
              "aanemia                      1\n",
              "dtype: int64"
            ]
          },
          "metadata": {},
          "execution_count": 31
        }
      ],
      "source": [
        "df2[cat_cols2].isnull().sum()"
      ]
    },
    {
      "cell_type": "code",
      "execution_count": null,
      "id": "60a279ff",
      "metadata": {
        "id": "60a279ff"
      },
      "outputs": [],
      "source": [
        "# filling null values, we will use two methods, random sampling for higher null values and\n",
        "# mean/mode sampling for lower null values\n",
        "\n",
        "def random_value_imputation(feature):\n",
        "    random_sample = df2[feature].dropna().sample(df2[feature].isna().sum())\n",
        "    random_sample.index = df2[df2[feature].isnull()].index\n",
        "    df2.loc[df2[feature].isnull(), feature] = random_sample\n",
        "\n",
        "def impute_mode(feature):\n",
        "    mode = df2[feature].mode()[0]\n",
        "    df2[feature] = df2[feature].fillna(mode)"
      ]
    },
    {
      "cell_type": "code",
      "execution_count": null,
      "id": "8977f691",
      "metadata": {
        "id": "8977f691"
      },
      "outputs": [],
      "source": [
        "# filling num_cols null values using random sampling method\n",
        "\n",
        "for col in num_cols2:\n",
        "    random_value_imputation(col)"
      ]
    },
    {
      "cell_type": "code",
      "execution_count": null,
      "id": "6494929f",
      "metadata": {
        "colab": {
          "base_uri": "https://localhost:8080/"
        },
        "id": "6494929f",
        "outputId": "6b9ec085-766f-4ee6-80ee-af8e8d46ccf0"
      },
      "outputs": [
        {
          "output_type": "execute_result",
          "data": {
            "text/plain": [
              "age                       0\n",
              "blood_pressure            0\n",
              "specific_gravity          0\n",
              "albumin                   0\n",
              "sugar                     0\n",
              "blood_urea                0\n",
              "serum_creatinine          0\n",
              "potassium                 0\n",
              "white_blood_cell_count    0\n",
              "class                     0\n",
              "dtype: int64"
            ]
          },
          "metadata": {},
          "execution_count": 34
        }
      ],
      "source": [
        "df2[num_cols2].isnull().sum()"
      ]
    },
    {
      "cell_type": "code",
      "execution_count": null,
      "id": "075163c6",
      "metadata": {
        "id": "075163c6"
      },
      "outputs": [],
      "source": [
        "# filling \"red_blood_cells\" and \"pus_cell\" using random sampling method and rest of cat_cols using mode imputation\n",
        "\n",
        "random_value_imputation('red_blood_cells')\n",
        "random_value_imputation('pus_cell')\n",
        "\n",
        "for col in cat_cols2:\n",
        "    impute_mode(col)"
      ]
    },
    {
      "cell_type": "code",
      "execution_count": null,
      "id": "6aba043e",
      "metadata": {
        "colab": {
          "base_uri": "https://localhost:8080/"
        },
        "id": "6aba043e",
        "outputId": "13aa9db5-5062-4014-816f-55da96b01d97"
      },
      "outputs": [
        {
          "output_type": "execute_result",
          "data": {
            "text/plain": [
              "red_blood_cells            0\n",
              "pus_cell                   0\n",
              "pus_cell_clumps            0\n",
              "bacteria                   0\n",
              "hypertension               0\n",
              "diabetes_mellitus          0\n",
              "coronary_artery_disease    0\n",
              "appetite                   0\n",
              "peda_edema                 0\n",
              "aanemia                    0\n",
              "dtype: int64"
            ]
          },
          "metadata": {},
          "execution_count": 36
        }
      ],
      "source": [
        "df2[cat_cols2].isnull().sum()"
      ]
    },
    {
      "cell_type": "code",
      "source": [
        "df2"
      ],
      "metadata": {
        "colab": {
          "base_uri": "https://localhost:8080/",
          "height": 488
        },
        "id": "Wpvw0pbX6TXz",
        "outputId": "e38a5049-7e9b-4f7b-c6d5-6bb00b68c5e8"
      },
      "id": "Wpvw0pbX6TXz",
      "execution_count": null,
      "outputs": [
        {
          "output_type": "execute_result",
          "data": {
            "text/plain": [
              "      age  blood_pressure  specific_gravity  albumin  sugar red_blood_cells  \\\n",
              "0    48.0            80.0             1.020      1.0    0.0          normal   \n",
              "1     7.0            50.0             1.020      4.0    0.0          normal   \n",
              "2    62.0            80.0             1.010      2.0    3.0          normal   \n",
              "3    48.0            70.0             1.005      4.0    0.0          normal   \n",
              "4    51.0            80.0             1.010      2.0    0.0          normal   \n",
              "..    ...             ...               ...      ...    ...             ...   \n",
              "395  55.0            80.0             1.020      0.0    0.0          normal   \n",
              "396  42.0            70.0             1.025      0.0    0.0          normal   \n",
              "397  12.0            80.0             1.020      0.0    0.0          normal   \n",
              "398  17.0            60.0             1.025      0.0    0.0          normal   \n",
              "399  58.0            80.0             1.025      0.0    0.0          normal   \n",
              "\n",
              "     pus_cell pus_cell_clumps    bacteria  blood_urea  serum_creatinine  \\\n",
              "0      normal      notpresent  notpresent        36.0               1.2   \n",
              "1      normal      notpresent  notpresent        18.0               0.8   \n",
              "2      normal      notpresent  notpresent        53.0               1.8   \n",
              "3    abnormal         present  notpresent        56.0               3.8   \n",
              "4      normal      notpresent  notpresent        26.0               1.4   \n",
              "..        ...             ...         ...         ...               ...   \n",
              "395    normal      notpresent  notpresent        49.0               0.5   \n",
              "396    normal      notpresent  notpresent        31.0               1.2   \n",
              "397    normal      notpresent  notpresent        26.0               0.6   \n",
              "398    normal      notpresent  notpresent        50.0               1.0   \n",
              "399    normal      notpresent  notpresent        18.0               1.1   \n",
              "\n",
              "     potassium  white_blood_cell_count hypertension diabetes_mellitus  \\\n",
              "0          4.6                  7800.0          yes               yes   \n",
              "1          4.2                  6000.0           no                no   \n",
              "2          3.6                  7500.0           no               yes   \n",
              "3          2.5                  6700.0          yes                no   \n",
              "4          4.7                  7300.0           no                no   \n",
              "..         ...                     ...          ...               ...   \n",
              "395        4.9                  6700.0           no                no   \n",
              "396        3.5                  7800.0           no                no   \n",
              "397        4.4                  6600.0           no                no   \n",
              "398        4.9                  7200.0           no                no   \n",
              "399        3.5                  6800.0           no                no   \n",
              "\n",
              "    coronary_artery_disease appetite peda_edema aanemia  class  \n",
              "0                        no     good         no      no      0  \n",
              "1                        no     good         no      no      0  \n",
              "2                        no     poor         no     yes      0  \n",
              "3                        no     poor        yes     yes      0  \n",
              "4                        no     good         no      no      0  \n",
              "..                      ...      ...        ...     ...    ...  \n",
              "395                      no     good         no      no      1  \n",
              "396                      no     good         no      no      1  \n",
              "397                      no     good         no      no      1  \n",
              "398                      no     good         no      no      1  \n",
              "399                      no     good         no      no      1  \n",
              "\n",
              "[400 rows x 20 columns]"
            ],
            "text/html": [
              "\n",
              "  <div id=\"df-01487cdf-5090-4a17-bf7e-71c29ba8b2ff\">\n",
              "    <div class=\"colab-df-container\">\n",
              "      <div>\n",
              "<style scoped>\n",
              "    .dataframe tbody tr th:only-of-type {\n",
              "        vertical-align: middle;\n",
              "    }\n",
              "\n",
              "    .dataframe tbody tr th {\n",
              "        vertical-align: top;\n",
              "    }\n",
              "\n",
              "    .dataframe thead th {\n",
              "        text-align: right;\n",
              "    }\n",
              "</style>\n",
              "<table border=\"1\" class=\"dataframe\">\n",
              "  <thead>\n",
              "    <tr style=\"text-align: right;\">\n",
              "      <th></th>\n",
              "      <th>age</th>\n",
              "      <th>blood_pressure</th>\n",
              "      <th>specific_gravity</th>\n",
              "      <th>albumin</th>\n",
              "      <th>sugar</th>\n",
              "      <th>red_blood_cells</th>\n",
              "      <th>pus_cell</th>\n",
              "      <th>pus_cell_clumps</th>\n",
              "      <th>bacteria</th>\n",
              "      <th>blood_urea</th>\n",
              "      <th>serum_creatinine</th>\n",
              "      <th>potassium</th>\n",
              "      <th>white_blood_cell_count</th>\n",
              "      <th>hypertension</th>\n",
              "      <th>diabetes_mellitus</th>\n",
              "      <th>coronary_artery_disease</th>\n",
              "      <th>appetite</th>\n",
              "      <th>peda_edema</th>\n",
              "      <th>aanemia</th>\n",
              "      <th>class</th>\n",
              "    </tr>\n",
              "  </thead>\n",
              "  <tbody>\n",
              "    <tr>\n",
              "      <th>0</th>\n",
              "      <td>48.0</td>\n",
              "      <td>80.0</td>\n",
              "      <td>1.020</td>\n",
              "      <td>1.0</td>\n",
              "      <td>0.0</td>\n",
              "      <td>normal</td>\n",
              "      <td>normal</td>\n",
              "      <td>notpresent</td>\n",
              "      <td>notpresent</td>\n",
              "      <td>36.0</td>\n",
              "      <td>1.2</td>\n",
              "      <td>4.6</td>\n",
              "      <td>7800.0</td>\n",
              "      <td>yes</td>\n",
              "      <td>yes</td>\n",
              "      <td>no</td>\n",
              "      <td>good</td>\n",
              "      <td>no</td>\n",
              "      <td>no</td>\n",
              "      <td>0</td>\n",
              "    </tr>\n",
              "    <tr>\n",
              "      <th>1</th>\n",
              "      <td>7.0</td>\n",
              "      <td>50.0</td>\n",
              "      <td>1.020</td>\n",
              "      <td>4.0</td>\n",
              "      <td>0.0</td>\n",
              "      <td>normal</td>\n",
              "      <td>normal</td>\n",
              "      <td>notpresent</td>\n",
              "      <td>notpresent</td>\n",
              "      <td>18.0</td>\n",
              "      <td>0.8</td>\n",
              "      <td>4.2</td>\n",
              "      <td>6000.0</td>\n",
              "      <td>no</td>\n",
              "      <td>no</td>\n",
              "      <td>no</td>\n",
              "      <td>good</td>\n",
              "      <td>no</td>\n",
              "      <td>no</td>\n",
              "      <td>0</td>\n",
              "    </tr>\n",
              "    <tr>\n",
              "      <th>2</th>\n",
              "      <td>62.0</td>\n",
              "      <td>80.0</td>\n",
              "      <td>1.010</td>\n",
              "      <td>2.0</td>\n",
              "      <td>3.0</td>\n",
              "      <td>normal</td>\n",
              "      <td>normal</td>\n",
              "      <td>notpresent</td>\n",
              "      <td>notpresent</td>\n",
              "      <td>53.0</td>\n",
              "      <td>1.8</td>\n",
              "      <td>3.6</td>\n",
              "      <td>7500.0</td>\n",
              "      <td>no</td>\n",
              "      <td>yes</td>\n",
              "      <td>no</td>\n",
              "      <td>poor</td>\n",
              "      <td>no</td>\n",
              "      <td>yes</td>\n",
              "      <td>0</td>\n",
              "    </tr>\n",
              "    <tr>\n",
              "      <th>3</th>\n",
              "      <td>48.0</td>\n",
              "      <td>70.0</td>\n",
              "      <td>1.005</td>\n",
              "      <td>4.0</td>\n",
              "      <td>0.0</td>\n",
              "      <td>normal</td>\n",
              "      <td>abnormal</td>\n",
              "      <td>present</td>\n",
              "      <td>notpresent</td>\n",
              "      <td>56.0</td>\n",
              "      <td>3.8</td>\n",
              "      <td>2.5</td>\n",
              "      <td>6700.0</td>\n",
              "      <td>yes</td>\n",
              "      <td>no</td>\n",
              "      <td>no</td>\n",
              "      <td>poor</td>\n",
              "      <td>yes</td>\n",
              "      <td>yes</td>\n",
              "      <td>0</td>\n",
              "    </tr>\n",
              "    <tr>\n",
              "      <th>4</th>\n",
              "      <td>51.0</td>\n",
              "      <td>80.0</td>\n",
              "      <td>1.010</td>\n",
              "      <td>2.0</td>\n",
              "      <td>0.0</td>\n",
              "      <td>normal</td>\n",
              "      <td>normal</td>\n",
              "      <td>notpresent</td>\n",
              "      <td>notpresent</td>\n",
              "      <td>26.0</td>\n",
              "      <td>1.4</td>\n",
              "      <td>4.7</td>\n",
              "      <td>7300.0</td>\n",
              "      <td>no</td>\n",
              "      <td>no</td>\n",
              "      <td>no</td>\n",
              "      <td>good</td>\n",
              "      <td>no</td>\n",
              "      <td>no</td>\n",
              "      <td>0</td>\n",
              "    </tr>\n",
              "    <tr>\n",
              "      <th>...</th>\n",
              "      <td>...</td>\n",
              "      <td>...</td>\n",
              "      <td>...</td>\n",
              "      <td>...</td>\n",
              "      <td>...</td>\n",
              "      <td>...</td>\n",
              "      <td>...</td>\n",
              "      <td>...</td>\n",
              "      <td>...</td>\n",
              "      <td>...</td>\n",
              "      <td>...</td>\n",
              "      <td>...</td>\n",
              "      <td>...</td>\n",
              "      <td>...</td>\n",
              "      <td>...</td>\n",
              "      <td>...</td>\n",
              "      <td>...</td>\n",
              "      <td>...</td>\n",
              "      <td>...</td>\n",
              "      <td>...</td>\n",
              "    </tr>\n",
              "    <tr>\n",
              "      <th>395</th>\n",
              "      <td>55.0</td>\n",
              "      <td>80.0</td>\n",
              "      <td>1.020</td>\n",
              "      <td>0.0</td>\n",
              "      <td>0.0</td>\n",
              "      <td>normal</td>\n",
              "      <td>normal</td>\n",
              "      <td>notpresent</td>\n",
              "      <td>notpresent</td>\n",
              "      <td>49.0</td>\n",
              "      <td>0.5</td>\n",
              "      <td>4.9</td>\n",
              "      <td>6700.0</td>\n",
              "      <td>no</td>\n",
              "      <td>no</td>\n",
              "      <td>no</td>\n",
              "      <td>good</td>\n",
              "      <td>no</td>\n",
              "      <td>no</td>\n",
              "      <td>1</td>\n",
              "    </tr>\n",
              "    <tr>\n",
              "      <th>396</th>\n",
              "      <td>42.0</td>\n",
              "      <td>70.0</td>\n",
              "      <td>1.025</td>\n",
              "      <td>0.0</td>\n",
              "      <td>0.0</td>\n",
              "      <td>normal</td>\n",
              "      <td>normal</td>\n",
              "      <td>notpresent</td>\n",
              "      <td>notpresent</td>\n",
              "      <td>31.0</td>\n",
              "      <td>1.2</td>\n",
              "      <td>3.5</td>\n",
              "      <td>7800.0</td>\n",
              "      <td>no</td>\n",
              "      <td>no</td>\n",
              "      <td>no</td>\n",
              "      <td>good</td>\n",
              "      <td>no</td>\n",
              "      <td>no</td>\n",
              "      <td>1</td>\n",
              "    </tr>\n",
              "    <tr>\n",
              "      <th>397</th>\n",
              "      <td>12.0</td>\n",
              "      <td>80.0</td>\n",
              "      <td>1.020</td>\n",
              "      <td>0.0</td>\n",
              "      <td>0.0</td>\n",
              "      <td>normal</td>\n",
              "      <td>normal</td>\n",
              "      <td>notpresent</td>\n",
              "      <td>notpresent</td>\n",
              "      <td>26.0</td>\n",
              "      <td>0.6</td>\n",
              "      <td>4.4</td>\n",
              "      <td>6600.0</td>\n",
              "      <td>no</td>\n",
              "      <td>no</td>\n",
              "      <td>no</td>\n",
              "      <td>good</td>\n",
              "      <td>no</td>\n",
              "      <td>no</td>\n",
              "      <td>1</td>\n",
              "    </tr>\n",
              "    <tr>\n",
              "      <th>398</th>\n",
              "      <td>17.0</td>\n",
              "      <td>60.0</td>\n",
              "      <td>1.025</td>\n",
              "      <td>0.0</td>\n",
              "      <td>0.0</td>\n",
              "      <td>normal</td>\n",
              "      <td>normal</td>\n",
              "      <td>notpresent</td>\n",
              "      <td>notpresent</td>\n",
              "      <td>50.0</td>\n",
              "      <td>1.0</td>\n",
              "      <td>4.9</td>\n",
              "      <td>7200.0</td>\n",
              "      <td>no</td>\n",
              "      <td>no</td>\n",
              "      <td>no</td>\n",
              "      <td>good</td>\n",
              "      <td>no</td>\n",
              "      <td>no</td>\n",
              "      <td>1</td>\n",
              "    </tr>\n",
              "    <tr>\n",
              "      <th>399</th>\n",
              "      <td>58.0</td>\n",
              "      <td>80.0</td>\n",
              "      <td>1.025</td>\n",
              "      <td>0.0</td>\n",
              "      <td>0.0</td>\n",
              "      <td>normal</td>\n",
              "      <td>normal</td>\n",
              "      <td>notpresent</td>\n",
              "      <td>notpresent</td>\n",
              "      <td>18.0</td>\n",
              "      <td>1.1</td>\n",
              "      <td>3.5</td>\n",
              "      <td>6800.0</td>\n",
              "      <td>no</td>\n",
              "      <td>no</td>\n",
              "      <td>no</td>\n",
              "      <td>good</td>\n",
              "      <td>no</td>\n",
              "      <td>no</td>\n",
              "      <td>1</td>\n",
              "    </tr>\n",
              "  </tbody>\n",
              "</table>\n",
              "<p>400 rows × 20 columns</p>\n",
              "</div>\n",
              "      <button class=\"colab-df-convert\" onclick=\"convertToInteractive('df-01487cdf-5090-4a17-bf7e-71c29ba8b2ff')\"\n",
              "              title=\"Convert this dataframe to an interactive table.\"\n",
              "              style=\"display:none;\">\n",
              "        \n",
              "  <svg xmlns=\"http://www.w3.org/2000/svg\" height=\"24px\"viewBox=\"0 0 24 24\"\n",
              "       width=\"24px\">\n",
              "    <path d=\"M0 0h24v24H0V0z\" fill=\"none\"/>\n",
              "    <path d=\"M18.56 5.44l.94 2.06.94-2.06 2.06-.94-2.06-.94-.94-2.06-.94 2.06-2.06.94zm-11 1L8.5 8.5l.94-2.06 2.06-.94-2.06-.94L8.5 2.5l-.94 2.06-2.06.94zm10 10l.94 2.06.94-2.06 2.06-.94-2.06-.94-.94-2.06-.94 2.06-2.06.94z\"/><path d=\"M17.41 7.96l-1.37-1.37c-.4-.4-.92-.59-1.43-.59-.52 0-1.04.2-1.43.59L10.3 9.45l-7.72 7.72c-.78.78-.78 2.05 0 2.83L4 21.41c.39.39.9.59 1.41.59.51 0 1.02-.2 1.41-.59l7.78-7.78 2.81-2.81c.8-.78.8-2.07 0-2.86zM5.41 20L4 18.59l7.72-7.72 1.47 1.35L5.41 20z\"/>\n",
              "  </svg>\n",
              "      </button>\n",
              "      \n",
              "  <style>\n",
              "    .colab-df-container {\n",
              "      display:flex;\n",
              "      flex-wrap:wrap;\n",
              "      gap: 12px;\n",
              "    }\n",
              "\n",
              "    .colab-df-convert {\n",
              "      background-color: #E8F0FE;\n",
              "      border: none;\n",
              "      border-radius: 50%;\n",
              "      cursor: pointer;\n",
              "      display: none;\n",
              "      fill: #1967D2;\n",
              "      height: 32px;\n",
              "      padding: 0 0 0 0;\n",
              "      width: 32px;\n",
              "    }\n",
              "\n",
              "    .colab-df-convert:hover {\n",
              "      background-color: #E2EBFA;\n",
              "      box-shadow: 0px 1px 2px rgba(60, 64, 67, 0.3), 0px 1px 3px 1px rgba(60, 64, 67, 0.15);\n",
              "      fill: #174EA6;\n",
              "    }\n",
              "\n",
              "    [theme=dark] .colab-df-convert {\n",
              "      background-color: #3B4455;\n",
              "      fill: #D2E3FC;\n",
              "    }\n",
              "\n",
              "    [theme=dark] .colab-df-convert:hover {\n",
              "      background-color: #434B5C;\n",
              "      box-shadow: 0px 1px 3px 1px rgba(0, 0, 0, 0.15);\n",
              "      filter: drop-shadow(0px 1px 2px rgba(0, 0, 0, 0.3));\n",
              "      fill: #FFFFFF;\n",
              "    }\n",
              "  </style>\n",
              "\n",
              "      <script>\n",
              "        const buttonEl =\n",
              "          document.querySelector('#df-01487cdf-5090-4a17-bf7e-71c29ba8b2ff button.colab-df-convert');\n",
              "        buttonEl.style.display =\n",
              "          google.colab.kernel.accessAllowed ? 'block' : 'none';\n",
              "\n",
              "        async function convertToInteractive(key) {\n",
              "          const element = document.querySelector('#df-01487cdf-5090-4a17-bf7e-71c29ba8b2ff');\n",
              "          const dataTable =\n",
              "            await google.colab.kernel.invokeFunction('convertToInteractive',\n",
              "                                                     [key], {});\n",
              "          if (!dataTable) return;\n",
              "\n",
              "          const docLinkHtml = 'Like what you see? Visit the ' +\n",
              "            '<a target=\"_blank\" href=https://colab.research.google.com/notebooks/data_table.ipynb>data table notebook</a>'\n",
              "            + ' to learn more about interactive tables.';\n",
              "          element.innerHTML = '';\n",
              "          dataTable['output_type'] = 'display_data';\n",
              "          await google.colab.output.renderOutput(dataTable, element);\n",
              "          const docLink = document.createElement('div');\n",
              "          docLink.innerHTML = docLinkHtml;\n",
              "          element.appendChild(docLink);\n",
              "        }\n",
              "      </script>\n",
              "    </div>\n",
              "  </div>\n",
              "  "
            ]
          },
          "metadata": {},
          "execution_count": 37
        }
      ]
    },
    {
      "cell_type": "markdown",
      "id": "60e0befb",
      "metadata": {
        "id": "60e0befb"
      },
      "source": [
        "<p style = \"font-size : 20px; color : #34656d ; font-family : 'Comic Sans MS'; \"><strong>All the missing values are handeled now, lets do ctaegorical features encding now</strong></p>"
      ]
    },
    {
      "cell_type": "markdown",
      "id": "b158cf98",
      "metadata": {
        "id": "b158cf98"
      },
      "source": [
        "<a id = '4.0'></a>\n",
        "<p style = \"font-size : 35px; color : #34656d ; font-family : 'Comic Sans MS'; text-align : center; background-color : #f9b208; border-radius: 5px 5px;\"><strong>Feature Encoding</strong></p>"
      ]
    },
    {
      "cell_type": "code",
      "execution_count": null,
      "id": "fba81f1a",
      "metadata": {
        "colab": {
          "base_uri": "https://localhost:8080/"
        },
        "id": "fba81f1a",
        "outputId": "6f2b778a-898b-4982-9d4e-408f6ddf6139"
      },
      "outputs": [
        {
          "output_type": "stream",
          "name": "stdout",
          "text": [
            "red_blood_cells has 2 categories\n",
            "\n",
            "pus_cell has 2 categories\n",
            "\n",
            "pus_cell_clumps has 2 categories\n",
            "\n",
            "bacteria has 2 categories\n",
            "\n",
            "hypertension has 2 categories\n",
            "\n",
            "diabetes_mellitus has 2 categories\n",
            "\n",
            "coronary_artery_disease has 2 categories\n",
            "\n",
            "appetite has 2 categories\n",
            "\n",
            "peda_edema has 2 categories\n",
            "\n",
            "aanemia has 2 categories\n",
            "\n"
          ]
        }
      ],
      "source": [
        "for col in cat_cols2:\n",
        "    print(f\"{col} has {df2[col].nunique()} categories\\n\")"
      ]
    },
    {
      "cell_type": "markdown",
      "id": "bd9945c2",
      "metadata": {
        "id": "bd9945c2"
      },
      "source": [
        "<p style = \"font-size : 20px; color : #34656d ; font-family : 'Comic Sans MS'; \"><strong>As all of the categorical columns have 2 categories we can use label encoder</strong></p>"
      ]
    },
    {
      "cell_type": "code",
      "execution_count": null,
      "id": "5c8e2126",
      "metadata": {
        "id": "5c8e2126"
      },
      "outputs": [],
      "source": [
        "from sklearn.preprocessing import LabelEncoder\n",
        "\n",
        "le = LabelEncoder()\n",
        "\n",
        "for col in cat_cols2:\n",
        "    df2[col] = le.fit_transform(df2[col])"
      ]
    },
    {
      "cell_type": "code",
      "execution_count": null,
      "id": "5f3d91ef",
      "metadata": {
        "colab": {
          "base_uri": "https://localhost:8080/",
          "height": 270
        },
        "id": "5f3d91ef",
        "outputId": "fbcb7c81-bc7a-4c1d-bb97-170e776ade31"
      },
      "outputs": [
        {
          "output_type": "execute_result",
          "data": {
            "text/plain": [
              "    age  blood_pressure  specific_gravity  albumin  sugar  red_blood_cells  \\\n",
              "0  48.0            80.0             1.020      1.0    0.0                1   \n",
              "1   7.0            50.0             1.020      4.0    0.0                1   \n",
              "2  62.0            80.0             1.010      2.0    3.0                1   \n",
              "3  48.0            70.0             1.005      4.0    0.0                1   \n",
              "4  51.0            80.0             1.010      2.0    0.0                1   \n",
              "\n",
              "   pus_cell  pus_cell_clumps  bacteria  blood_urea  serum_creatinine  \\\n",
              "0         1                0         0        36.0               1.2   \n",
              "1         1                0         0        18.0               0.8   \n",
              "2         1                0         0        53.0               1.8   \n",
              "3         0                1         0        56.0               3.8   \n",
              "4         1                0         0        26.0               1.4   \n",
              "\n",
              "   potassium  white_blood_cell_count  hypertension  diabetes_mellitus  \\\n",
              "0        4.6                  7800.0             1                  1   \n",
              "1        4.2                  6000.0             0                  0   \n",
              "2        3.6                  7500.0             0                  1   \n",
              "3        2.5                  6700.0             1                  0   \n",
              "4        4.7                  7300.0             0                  0   \n",
              "\n",
              "   coronary_artery_disease  appetite  peda_edema  aanemia  class  \n",
              "0                        0         0           0        0      0  \n",
              "1                        0         0           0        0      0  \n",
              "2                        0         1           0        1      0  \n",
              "3                        0         1           1        1      0  \n",
              "4                        0         0           0        0      0  "
            ],
            "text/html": [
              "\n",
              "  <div id=\"df-3a1e9625-f548-4b1a-bf55-e4d1ab51db5f\">\n",
              "    <div class=\"colab-df-container\">\n",
              "      <div>\n",
              "<style scoped>\n",
              "    .dataframe tbody tr th:only-of-type {\n",
              "        vertical-align: middle;\n",
              "    }\n",
              "\n",
              "    .dataframe tbody tr th {\n",
              "        vertical-align: top;\n",
              "    }\n",
              "\n",
              "    .dataframe thead th {\n",
              "        text-align: right;\n",
              "    }\n",
              "</style>\n",
              "<table border=\"1\" class=\"dataframe\">\n",
              "  <thead>\n",
              "    <tr style=\"text-align: right;\">\n",
              "      <th></th>\n",
              "      <th>age</th>\n",
              "      <th>blood_pressure</th>\n",
              "      <th>specific_gravity</th>\n",
              "      <th>albumin</th>\n",
              "      <th>sugar</th>\n",
              "      <th>red_blood_cells</th>\n",
              "      <th>pus_cell</th>\n",
              "      <th>pus_cell_clumps</th>\n",
              "      <th>bacteria</th>\n",
              "      <th>blood_urea</th>\n",
              "      <th>serum_creatinine</th>\n",
              "      <th>potassium</th>\n",
              "      <th>white_blood_cell_count</th>\n",
              "      <th>hypertension</th>\n",
              "      <th>diabetes_mellitus</th>\n",
              "      <th>coronary_artery_disease</th>\n",
              "      <th>appetite</th>\n",
              "      <th>peda_edema</th>\n",
              "      <th>aanemia</th>\n",
              "      <th>class</th>\n",
              "    </tr>\n",
              "  </thead>\n",
              "  <tbody>\n",
              "    <tr>\n",
              "      <th>0</th>\n",
              "      <td>48.0</td>\n",
              "      <td>80.0</td>\n",
              "      <td>1.020</td>\n",
              "      <td>1.0</td>\n",
              "      <td>0.0</td>\n",
              "      <td>1</td>\n",
              "      <td>1</td>\n",
              "      <td>0</td>\n",
              "      <td>0</td>\n",
              "      <td>36.0</td>\n",
              "      <td>1.2</td>\n",
              "      <td>4.6</td>\n",
              "      <td>7800.0</td>\n",
              "      <td>1</td>\n",
              "      <td>1</td>\n",
              "      <td>0</td>\n",
              "      <td>0</td>\n",
              "      <td>0</td>\n",
              "      <td>0</td>\n",
              "      <td>0</td>\n",
              "    </tr>\n",
              "    <tr>\n",
              "      <th>1</th>\n",
              "      <td>7.0</td>\n",
              "      <td>50.0</td>\n",
              "      <td>1.020</td>\n",
              "      <td>4.0</td>\n",
              "      <td>0.0</td>\n",
              "      <td>1</td>\n",
              "      <td>1</td>\n",
              "      <td>0</td>\n",
              "      <td>0</td>\n",
              "      <td>18.0</td>\n",
              "      <td>0.8</td>\n",
              "      <td>4.2</td>\n",
              "      <td>6000.0</td>\n",
              "      <td>0</td>\n",
              "      <td>0</td>\n",
              "      <td>0</td>\n",
              "      <td>0</td>\n",
              "      <td>0</td>\n",
              "      <td>0</td>\n",
              "      <td>0</td>\n",
              "    </tr>\n",
              "    <tr>\n",
              "      <th>2</th>\n",
              "      <td>62.0</td>\n",
              "      <td>80.0</td>\n",
              "      <td>1.010</td>\n",
              "      <td>2.0</td>\n",
              "      <td>3.0</td>\n",
              "      <td>1</td>\n",
              "      <td>1</td>\n",
              "      <td>0</td>\n",
              "      <td>0</td>\n",
              "      <td>53.0</td>\n",
              "      <td>1.8</td>\n",
              "      <td>3.6</td>\n",
              "      <td>7500.0</td>\n",
              "      <td>0</td>\n",
              "      <td>1</td>\n",
              "      <td>0</td>\n",
              "      <td>1</td>\n",
              "      <td>0</td>\n",
              "      <td>1</td>\n",
              "      <td>0</td>\n",
              "    </tr>\n",
              "    <tr>\n",
              "      <th>3</th>\n",
              "      <td>48.0</td>\n",
              "      <td>70.0</td>\n",
              "      <td>1.005</td>\n",
              "      <td>4.0</td>\n",
              "      <td>0.0</td>\n",
              "      <td>1</td>\n",
              "      <td>0</td>\n",
              "      <td>1</td>\n",
              "      <td>0</td>\n",
              "      <td>56.0</td>\n",
              "      <td>3.8</td>\n",
              "      <td>2.5</td>\n",
              "      <td>6700.0</td>\n",
              "      <td>1</td>\n",
              "      <td>0</td>\n",
              "      <td>0</td>\n",
              "      <td>1</td>\n",
              "      <td>1</td>\n",
              "      <td>1</td>\n",
              "      <td>0</td>\n",
              "    </tr>\n",
              "    <tr>\n",
              "      <th>4</th>\n",
              "      <td>51.0</td>\n",
              "      <td>80.0</td>\n",
              "      <td>1.010</td>\n",
              "      <td>2.0</td>\n",
              "      <td>0.0</td>\n",
              "      <td>1</td>\n",
              "      <td>1</td>\n",
              "      <td>0</td>\n",
              "      <td>0</td>\n",
              "      <td>26.0</td>\n",
              "      <td>1.4</td>\n",
              "      <td>4.7</td>\n",
              "      <td>7300.0</td>\n",
              "      <td>0</td>\n",
              "      <td>0</td>\n",
              "      <td>0</td>\n",
              "      <td>0</td>\n",
              "      <td>0</td>\n",
              "      <td>0</td>\n",
              "      <td>0</td>\n",
              "    </tr>\n",
              "  </tbody>\n",
              "</table>\n",
              "</div>\n",
              "      <button class=\"colab-df-convert\" onclick=\"convertToInteractive('df-3a1e9625-f548-4b1a-bf55-e4d1ab51db5f')\"\n",
              "              title=\"Convert this dataframe to an interactive table.\"\n",
              "              style=\"display:none;\">\n",
              "        \n",
              "  <svg xmlns=\"http://www.w3.org/2000/svg\" height=\"24px\"viewBox=\"0 0 24 24\"\n",
              "       width=\"24px\">\n",
              "    <path d=\"M0 0h24v24H0V0z\" fill=\"none\"/>\n",
              "    <path d=\"M18.56 5.44l.94 2.06.94-2.06 2.06-.94-2.06-.94-.94-2.06-.94 2.06-2.06.94zm-11 1L8.5 8.5l.94-2.06 2.06-.94-2.06-.94L8.5 2.5l-.94 2.06-2.06.94zm10 10l.94 2.06.94-2.06 2.06-.94-2.06-.94-.94-2.06-.94 2.06-2.06.94z\"/><path d=\"M17.41 7.96l-1.37-1.37c-.4-.4-.92-.59-1.43-.59-.52 0-1.04.2-1.43.59L10.3 9.45l-7.72 7.72c-.78.78-.78 2.05 0 2.83L4 21.41c.39.39.9.59 1.41.59.51 0 1.02-.2 1.41-.59l7.78-7.78 2.81-2.81c.8-.78.8-2.07 0-2.86zM5.41 20L4 18.59l7.72-7.72 1.47 1.35L5.41 20z\"/>\n",
              "  </svg>\n",
              "      </button>\n",
              "      \n",
              "  <style>\n",
              "    .colab-df-container {\n",
              "      display:flex;\n",
              "      flex-wrap:wrap;\n",
              "      gap: 12px;\n",
              "    }\n",
              "\n",
              "    .colab-df-convert {\n",
              "      background-color: #E8F0FE;\n",
              "      border: none;\n",
              "      border-radius: 50%;\n",
              "      cursor: pointer;\n",
              "      display: none;\n",
              "      fill: #1967D2;\n",
              "      height: 32px;\n",
              "      padding: 0 0 0 0;\n",
              "      width: 32px;\n",
              "    }\n",
              "\n",
              "    .colab-df-convert:hover {\n",
              "      background-color: #E2EBFA;\n",
              "      box-shadow: 0px 1px 2px rgba(60, 64, 67, 0.3), 0px 1px 3px 1px rgba(60, 64, 67, 0.15);\n",
              "      fill: #174EA6;\n",
              "    }\n",
              "\n",
              "    [theme=dark] .colab-df-convert {\n",
              "      background-color: #3B4455;\n",
              "      fill: #D2E3FC;\n",
              "    }\n",
              "\n",
              "    [theme=dark] .colab-df-convert:hover {\n",
              "      background-color: #434B5C;\n",
              "      box-shadow: 0px 1px 3px 1px rgba(0, 0, 0, 0.15);\n",
              "      filter: drop-shadow(0px 1px 2px rgba(0, 0, 0, 0.3));\n",
              "      fill: #FFFFFF;\n",
              "    }\n",
              "  </style>\n",
              "\n",
              "      <script>\n",
              "        const buttonEl =\n",
              "          document.querySelector('#df-3a1e9625-f548-4b1a-bf55-e4d1ab51db5f button.colab-df-convert');\n",
              "        buttonEl.style.display =\n",
              "          google.colab.kernel.accessAllowed ? 'block' : 'none';\n",
              "\n",
              "        async function convertToInteractive(key) {\n",
              "          const element = document.querySelector('#df-3a1e9625-f548-4b1a-bf55-e4d1ab51db5f');\n",
              "          const dataTable =\n",
              "            await google.colab.kernel.invokeFunction('convertToInteractive',\n",
              "                                                     [key], {});\n",
              "          if (!dataTable) return;\n",
              "\n",
              "          const docLinkHtml = 'Like what you see? Visit the ' +\n",
              "            '<a target=\"_blank\" href=https://colab.research.google.com/notebooks/data_table.ipynb>data table notebook</a>'\n",
              "            + ' to learn more about interactive tables.';\n",
              "          element.innerHTML = '';\n",
              "          dataTable['output_type'] = 'display_data';\n",
              "          await google.colab.output.renderOutput(dataTable, element);\n",
              "          const docLink = document.createElement('div');\n",
              "          docLink.innerHTML = docLinkHtml;\n",
              "          element.appendChild(docLink);\n",
              "        }\n",
              "      </script>\n",
              "    </div>\n",
              "  </div>\n",
              "  "
            ]
          },
          "metadata": {},
          "execution_count": 40
        }
      ],
      "source": [
        "df2.head()"
      ]
    },
    {
      "cell_type": "markdown",
      "source": [
        "Feature Slection"
      ],
      "metadata": {
        "id": "sItOo9Ta8Le6"
      },
      "id": "sItOo9Ta8Le6"
    },
    {
      "cell_type": "code",
      "source": [
        "X = df2.drop(\"class\",axis=1)\n",
        "y = df2[\"class\"]\n",
        "from sklearn.model_selection import train_test_split\n",
        "X_train, X_test, y_train, y_test = train_test_split(X, y, test_size = 0.20, random_state = 0)\n",
        "X_train.shape, X_test.shape"
      ],
      "metadata": {
        "colab": {
          "base_uri": "https://localhost:8080/"
        },
        "id": "9CQkfcYG8KX2",
        "outputId": "52d4be2c-c7e4-4c51-b34a-634f4ff47670"
      },
      "id": "9CQkfcYG8KX2",
      "execution_count": null,
      "outputs": [
        {
          "output_type": "execute_result",
          "data": {
            "text/plain": [
              "((320, 19), (80, 19))"
            ]
          },
          "metadata": {},
          "execution_count": 41
        }
      ]
    },
    {
      "cell_type": "code",
      "source": [
        "from sklearn.feature_selection import SelectKBest\n",
        "from sklearn.feature_selection import f_classif\n",
        "FIT_FEATURES = SelectKBest(score_func= f_classif)\n",
        "FIT_FEATURES.fit(X_train,y_train)\n",
        "SCORE_COL=pd.DataFrame(FIT_FEATURES.scores_,columns =[\"score value\"])\n",
        "NAME_COL = pd.DataFrame(X_train.columns)\n",
        "top_feature = pd.concat([NAME_COL, SCORE_COL], axis= 1)\n",
        "top = top_feature.nlargest(15,\"score value\")\n",
        "df = pd.DataFrame(top)\n",
        "final =df.rename(columns={0: 'Name', 'score value': 'Score'})\n",
        "x =final[\"Name\"]\n",
        "y = final[\"Score\"]"
      ],
      "metadata": {
        "id": "QgyqrQ9E8Keq"
      },
      "id": "QgyqrQ9E8Keq",
      "execution_count": null,
      "outputs": []
    },
    {
      "cell_type": "code",
      "source": [
        "plt.figure(figsize =(25,10))\n",
        "plt.bar(x,y, color=\"hotpink\")\n",
        "plt.xlabel(\"Features Name\")\n",
        "plt.ylabel(\"Score\")\n",
        "plt.title(\"Feature Selection\")\n",
        "#plt.savefig(\"feature_selection.jpeg\")\n",
        "plt.show()"
      ],
      "metadata": {
        "colab": {
          "base_uri": "https://localhost:8080/",
          "height": 536
        },
        "id": "GOhkMM8h-GFR",
        "outputId": "96c7884d-19a9-4f4f-a515-7bc04012c835"
      },
      "id": "GOhkMM8h-GFR",
      "execution_count": null,
      "outputs": [
        {
          "output_type": "display_data",
          "data": {
            "text/plain": [
              "<Figure size 1800x720 with 1 Axes>"
            ],
            "image/png": "[encoded data removed]"
          },
          "metadata": {
            "needs_background": "light"
          }
        }
      ]
    },
    {
      "cell_type": "markdown",
      "id": "d478f5a7",
      "metadata": {
        "id": "d478f5a7"
      },
      "source": [
        "<a id = '5.0'></a>\n",
        "<p style = \"font-size : 45px; color : #34656d ; font-family : 'Comic Sans MS'; text-align : center; background-color : #f9b208; border-radius: 5px 5px;\"><strong>Model Building</strong></p>"
      ]
    },
    {
      "cell_type": "code",
      "execution_count": null,
      "id": "LhQPq1gfZmam",
      "metadata": {
        "id": "LhQPq1gfZmam"
      },
      "outputs": [],
      "source": [
        "#X = df2.drop(\"class\",axis=1)   #Feature Matrix\n",
        "#y = df2[\"class\"]\n",
        "#feature_attribute = [\"specific_gravity\",\"hypertension\",\"diabetes_mellitus\",\"albumin\",\"pus_cell\",\"appetite\",\"peda_edema\",\"red_blood_cells\",\"blood_urea\",\"serum_creatinine\",\"sugar\",\"aanemia\",\"blood_pressure\",\"pus_cell_clumps\",\"age\"]\n",
        "\n",
        "\n",
        "feature_attribute = [\"specific_gravity\",\"hypertension\",\"diabetes_mellitus\",\"albumin\",\"pus_cell\",\"appetite\",\"peda_edema\",\"red_blood_cells\",\"serum_creatinine\"]\n",
        "target_varible = ['class']\n",
        "X = df2[feature_attribute]\n",
        "y = df2[target_varible]"
      ]
    },
    {
      "cell_type": "code",
      "execution_count": null,
      "id": "5cdcd5f7",
      "metadata": {
        "colab": {
          "base_uri": "https://localhost:8080/"
        },
        "id": "5cdcd5f7",
        "outputId": "1e0c4c4c-ccb0-4abc-f41d-6c86bbf0d8cd"
      },
      "outputs": [
        {
          "output_type": "execute_result",
          "data": {
            "text/plain": [
              "((320, 9), (80, 9))"
            ]
          },
          "metadata": {},
          "execution_count": 44
        }
      ],
      "source": [
        "# splitting data intp training and test set\n",
        "\n",
        "from sklearn.model_selection import train_test_split\n",
        "\n",
        "X_train, X_test, y_train, y_test = train_test_split(X, y, test_size = 0.20, random_state = 0)\n",
        "X_train.shape, X_test.shape"
      ]
    },
    {
      "cell_type": "markdown",
      "id": "19a8ca3f",
      "metadata": {
        "id": "19a8ca3f"
      },
      "source": [
        "<a id = '5.1'></a>\n",
        "<p style = \"font-size : 25px; color : #34656d ; font-family : 'Comic Sans MS'; text-align : center; background-color : #fbc6a4; border-radius: 5px 5px;\"><strong>KNN</strong></p>"
      ]
    },
    {
      "cell_type": "code",
      "execution_count": null,
      "id": "8cab3352",
      "metadata": {
        "colab": {
          "base_uri": "https://localhost:8080/"
        },
        "id": "8cab3352",
        "outputId": "aebd3587-253f-482d-a4c6-2acbf8d5c967"
      },
      "outputs": [
        {
          "output_type": "stream",
          "name": "stdout",
          "text": [
            "Training Accuracy of KNN is 0.95625\n",
            "Test Accuracy of KNN is 0.9875 \n",
            "\n",
            "Confusion Matrix :- \n",
            "[[52  0]\n",
            " [ 1 27]]\n",
            "\n",
            "Classification Report :- \n",
            "               precision    recall  f1-score   support\n",
            "\n",
            "           0       0.98      1.00      0.99        52\n",
            "           1       1.00      0.96      0.98        28\n",
            "\n",
            "    accuracy                           0.99        80\n",
            "   macro avg       0.99      0.98      0.99        80\n",
            "weighted avg       0.99      0.99      0.99        80\n",
            "\n"
          ]
        }
      ],
      "source": [
        "from sklearn.neighbors import KNeighborsClassifier\n",
        "from sklearn.metrics import accuracy_score, confusion_matrix, classification_report\n",
        "\n",
        "knn = KNeighborsClassifier()\n",
        "knn.fit(X_train, y_train)\n",
        "\n",
        "# accuracy score, confusion matrix and classification report of knn\n",
        "\n",
        "knn_acc = accuracy_score(y_test, knn.predict(X_test))\n",
        "y_pred_knn = knn.predict(X_test)\n",
        "print(f\"Training Accuracy of KNN is {accuracy_score(y_train, knn.predict(X_train))}\")\n",
        "print(f\"Test Accuracy of KNN is {knn_acc} \\n\")\n",
        "\n",
        "print(f\"Confusion Matrix :- \\n{confusion_matrix(y_test, knn.predict(X_test))}\\n\")\n",
        "print(f\"Classification Report :- \\n {classification_report(y_test, knn.predict(X_test))}\")"
      ]
    },
    {
      "cell_type": "code",
      "source": [
        "from sklearn.metrics import roc_curve, auc\n",
        "\n",
        "y_pred_knn = knn.predict(X_test)\n",
        "logistic_fpr, logistic_tpr, threshold = roc_curve(y_test, y_pred_knn)\n",
        "auc_logistic = auc(logistic_fpr, logistic_tpr)\n",
        "\n",
        "\n",
        "\n",
        "plt.figure(figsize=(5, 5), dpi=100)\n",
        "plt.plot(logistic_fpr, logistic_tpr, marker='.', label='KNN (auc = %0.3f)' % auc_logistic)\n",
        "\n",
        "plt.xlabel('False Positive Rate -->')\n",
        "plt.ylabel('True Positive Rate -->')\n",
        "\n",
        "plt.legend()\n",
        "\n",
        "plt.show()"
      ],
      "metadata": {
        "colab": {
          "base_uri": "https://localhost:8080/",
          "height": 457
        },
        "id": "2SmGsN0RCVkd",
        "outputId": "65f8d175-809d-4823-e216-c251fa530198"
      },
      "id": "2SmGsN0RCVkd",
      "execution_count": null,
      "outputs": [
        {
          "output_type": "display_data",
          "data": {
            "text/plain": [
              "<Figure size 500x500 with 1 Axes>"
            ],
            "image/png": "[encoded data removed]"
          },
          "metadata": {
            "needs_background": "light"
          }
        }
      ]
    },
    {
      "cell_type": "markdown",
      "id": "09deaf07",
      "metadata": {
        "id": "09deaf07"
      },
      "source": [
        "<a id = '5.2'></a>\n",
        "<p style = \"font-size : 25px; color : #34656d ; font-family : 'Comic Sans MS'; text-align : center; background-color : #fbc6a4; border-radius: 5px 5px;\"><strong>Decision Tree Classifier</strong></p>"
      ]
    },
    {
      "cell_type": "code",
      "execution_count": null,
      "id": "c4263757",
      "metadata": {
        "colab": {
          "base_uri": "https://localhost:8080/"
        },
        "id": "c4263757",
        "outputId": "ee111282-5004-4eae-9941-2dd41aa257f8"
      },
      "outputs": [
        {
          "output_type": "stream",
          "name": "stdout",
          "text": [
            "Training Accuracy of Decision Tree Classifier is 0.99375\n",
            "Test Accuracy of Decision Tree Classifier is 0.95 \n",
            "\n",
            "Confusion Matrix :- \n",
            "[[50  2]\n",
            " [ 2 26]]\n",
            "\n",
            "Classification Report :- \n",
            "               precision    recall  f1-score   support\n",
            "\n",
            "           0       0.96      0.96      0.96        52\n",
            "           1       0.93      0.93      0.93        28\n",
            "\n",
            "    accuracy                           0.95        80\n",
            "   macro avg       0.95      0.95      0.95        80\n",
            "weighted avg       0.95      0.95      0.95        80\n",
            "\n"
          ]
        }
      ],
      "source": [
        "from sklearn.tree import DecisionTreeClassifier\n",
        "\n",
        "dtc = DecisionTreeClassifier()\n",
        "dtc.fit(X_train, y_train)\n",
        "\n",
        "# accuracy score, confusion matrix and classification report of decision tree\n",
        "\n",
        "dtc_acc = accuracy_score(y_test, dtc.predict(X_test))\n",
        "\n",
        "print(f\"Training Accuracy of Decision Tree Classifier is {accuracy_score(y_train, dtc.predict(X_train))}\")\n",
        "print(f\"Test Accuracy of Decision Tree Classifier is {dtc_acc} \\n\")\n",
        "\n",
        "print(f\"Confusion Matrix :- \\n{confusion_matrix(y_test, dtc.predict(X_test))}\\n\")\n",
        "print(f\"Classification Report :- \\n {classification_report(y_test, dtc.predict(X_test))}\")"
      ]
    },
    {
      "cell_type": "code",
      "source": [
        "from sklearn.metrics import roc_curve, auc\n",
        "\n",
        "y_pred_dtc = dtc.predict(X_test)\n",
        "logistic_fpr, logistic_tpr, threshold = roc_curve(y_test, y_pred_dtc)\n",
        "auc_logistic = auc(logistic_fpr, logistic_tpr)\n",
        "\n",
        "\n",
        "\n",
        "plt.figure(figsize=(5, 5), dpi=100)\n",
        "plt.plot(logistic_fpr, logistic_tpr, marker='.', label='DT (auc = %0.3f)' % auc_logistic)\n",
        "\n",
        "plt.xlabel('False Positive Rate -->')\n",
        "plt.ylabel('True Positive Rate -->')\n",
        "\n",
        "plt.legend()\n",
        "\n",
        "plt.show()"
      ],
      "metadata": {
        "colab": {
          "base_uri": "https://localhost:8080/",
          "height": 457
        },
        "id": "1XY55SYLDQLj",
        "outputId": "f3c10213-f0a8-4c95-ce98-af7411e78708"
      },
      "id": "1XY55SYLDQLj",
      "execution_count": null,
      "outputs": [
        {
          "output_type": "display_data",
          "data": {
            "text/plain": [
              "<Figure size 500x500 with 1 Axes>"
            ],
            "image/png": "[encoded data removed]"
          },
          "metadata": {
            "needs_background": "light"
          }
        }
      ]
    },
    {
      "cell_type": "code",
      "execution_count": null,
      "id": "560d2cbe",
      "metadata": {
        "colab": {
          "base_uri": "https://localhost:8080/"
        },
        "id": "560d2cbe",
        "outputId": "5d768d77-cea0-4dd3-c66c-0d40c1c38bb7"
      },
      "outputs": [
        {
          "output_type": "stream",
          "name": "stdout",
          "text": [
            "Fitting 5 folds for each of 1200 candidates, totalling 6000 fits\n"
          ]
        },
        {
          "output_type": "execute_result",
          "data": {
            "text/plain": [
              "GridSearchCV(cv=5, estimator=DecisionTreeClassifier(), n_jobs=-1,\n",
              "             param_grid={'criterion': ['gini', 'entropy'],\n",
              "                         'max_depth': [3, 5, 7, 10],\n",
              "                         'max_features': ['auto', 'sqrt', 'log2'],\n",
              "                         'min_samples_leaf': [1, 2, 3, 5, 7],\n",
              "                         'min_samples_split': [1, 2, 3, 5, 7],\n",
              "                         'splitter': ['best', 'random']},\n",
              "             verbose=1)"
            ]
          },
          "metadata": {},
          "execution_count": 50
        }
      ],
      "source": [
        "# hyper parameter tuning of decision tree\n",
        "\n",
        "from sklearn.model_selection import GridSearchCV\n",
        "grid_param = {\n",
        "    'criterion' : ['gini', 'entropy'],\n",
        "    'max_depth' : [3, 5, 7, 10],\n",
        "    'splitter' : ['best', 'random'],\n",
        "    'min_samples_leaf' : [1, 2, 3, 5, 7],\n",
        "    'min_samples_split' : [1, 2, 3, 5, 7],\n",
        "    'max_features' : ['auto', 'sqrt', 'log2']\n",
        "}\n",
        "\n",
        "grid_search_dtc = GridSearchCV(dtc, grid_param, cv = 5, n_jobs = -1, verbose = 1)\n",
        "grid_search_dtc.fit(X_train, y_train)"
      ]
    },
    {
      "cell_type": "code",
      "execution_count": null,
      "id": "2b909268",
      "metadata": {
        "colab": {
          "base_uri": "https://localhost:8080/"
        },
        "id": "2b909268",
        "outputId": "4acacfe5-9b26-447f-cffa-872317ac9939"
      },
      "outputs": [
        {
          "output_type": "stream",
          "name": "stdout",
          "text": [
            "{'criterion': 'gini', 'max_depth': 7, 'max_features': 'log2', 'min_samples_leaf': 2, 'min_samples_split': 3, 'splitter': 'best'}\n",
            "0.9875\n"
          ]
        }
      ],
      "source": [
        "# best parameters and best score\n",
        "\n",
        "print(grid_search_dtc.best_params_)\n",
        "print(grid_search_dtc.best_score_)"
      ]
    },
    {
      "cell_type": "code",
      "execution_count": null,
      "id": "704ee48f",
      "metadata": {
        "colab": {
          "base_uri": "https://localhost:8080/"
        },
        "id": "704ee48f",
        "outputId": "0f621f1f-e838-460f-8c85-b9fbd93dd02f"
      },
      "outputs": [
        {
          "output_type": "stream",
          "name": "stdout",
          "text": [
            "Training Accuracy of Decision Tree Classifier is 0.95\n",
            "Test Accuracy of Decision Tree Classifier is 0.9625 \n",
            "\n",
            "Confusion Matrix :- \n",
            "[[51  1]\n",
            " [ 2 26]]\n",
            "\n",
            "Classification Report :- \n",
            "               precision    recall  f1-score   support\n",
            "\n",
            "           0       0.96      0.98      0.97        52\n",
            "           1       0.96      0.93      0.95        28\n",
            "\n",
            "    accuracy                           0.96        80\n",
            "   macro avg       0.96      0.95      0.96        80\n",
            "weighted avg       0.96      0.96      0.96        80\n",
            "\n"
          ]
        }
      ],
      "source": [
        "# best estimator\n",
        "\n",
        "dtc = grid_search_dtc.best_estimator_\n",
        "\n",
        "# accuracy score, confusion matrix and classification report of decision tree\n",
        "\n",
        "dtc_acc = accuracy_score(y_test, dtc.predict(X_test))\n",
        "\n",
        "print(f\"Training Accuracy of Decision Tree Classifier is {accuracy_score(y_train, dtc.predict(X_train))}\")\n",
        "print(f\"Test Accuracy of Decision Tree Classifier is {dtc_acc} \\n\")\n",
        "\n",
        "print(f\"Confusion Matrix :- \\n{confusion_matrix(y_test, dtc.predict(X_test))}\\n\")\n",
        "print(f\"Classification Report :- \\n {classification_report(y_test, dtc.predict(X_test))}\")"
      ]
    },
    {
      "cell_type": "markdown",
      "id": "6cac43df",
      "metadata": {
        "id": "6cac43df"
      },
      "source": [
        "<a id = '5.3'></a>\n",
        "<p style = \"font-size : 25px; color : #34656d ; font-family : 'Comic Sans MS'; text-align : center; background-color : #fbc6a4; border-radius: 5px 5px;\"><strong>Random Forest Classifier</strong></p>"
      ]
    },
    {
      "cell_type": "code",
      "execution_count": null,
      "id": "8125ad61",
      "metadata": {
        "colab": {
          "base_uri": "https://localhost:8080/"
        },
        "id": "8125ad61",
        "outputId": "10f43f77-ffaa-43f6-d3e6-9d33651ca1e2"
      },
      "outputs": [
        {
          "output_type": "stream",
          "name": "stdout",
          "text": [
            "Training Accuracy of Random Forest Classifier is 0.978125\n",
            "Test Accuracy of Random Forest Classifier is 0.975 \n",
            "\n",
            "Confusion Matrix :- \n",
            "[[52  0]\n",
            " [ 2 26]]\n",
            "\n",
            "Classification Report :- \n",
            "               precision    recall  f1-score   support\n",
            "\n",
            "           0       0.96      1.00      0.98        52\n",
            "           1       1.00      0.93      0.96        28\n",
            "\n",
            "    accuracy                           0.97        80\n",
            "   macro avg       0.98      0.96      0.97        80\n",
            "weighted avg       0.98      0.97      0.97        80\n",
            "\n"
          ]
        }
      ],
      "source": [
        "from sklearn.ensemble import RandomForestClassifier\n",
        "\n",
        "rd_clf = RandomForestClassifier(criterion = 'entropy', max_depth = 11, max_features = 'auto', min_samples_leaf = 2, min_samples_split = 3, n_estimators = 130)\n",
        "rd_clf.fit(X_train, y_train)\n",
        "\n",
        "# accuracy score, confusion matrix and classification report of random forest\n",
        "\n",
        "rd_clf_acc = accuracy_score(y_test, rd_clf.predict(X_test))\n",
        "\n",
        "print(f\"Training Accuracy of Random Forest Classifier is {accuracy_score(y_train, rd_clf.predict(X_train))}\")\n",
        "print(f\"Test Accuracy of Random Forest Classifier is {rd_clf_acc} \\n\")\n",
        "\n",
        "print(f\"Confusion Matrix :- \\n{confusion_matrix(y_test, rd_clf.predict(X_test))}\\n\")\n",
        "print(f\"Classification Report :- \\n {classification_report(y_test, rd_clf.predict(X_test))}\")"
      ]
    },
    {
      "cell_type": "code",
      "source": [
        "from sklearn.metrics import roc_curve, auc\n",
        "\n",
        "y_pred_rd_clf = rd_clf.predict(X_test)\n",
        "logistic_fpr, logistic_tpr, threshold = roc_curve(y_test, y_pred_rd_clf)\n",
        "auc_logistic = auc(logistic_fpr, logistic_tpr)\n",
        "\n",
        "\n",
        "\n",
        "plt.figure(figsize=(5, 5), dpi=100)\n",
        "plt.plot(logistic_fpr, logistic_tpr, marker='.', label='RF (auc = %0.3f)' % auc_logistic)\n",
        "\n",
        "plt.xlabel('False Positive Rate -->')\n",
        "plt.ylabel('True Positive Rate -->')\n",
        "\n",
        "plt.legend()\n",
        "\n",
        "plt.show()"
      ],
      "metadata": {
        "colab": {
          "base_uri": "https://localhost:8080/",
          "height": 457
        },
        "id": "fCyZHdGID58M",
        "outputId": "51575595-f510-452a-82d1-eb84fbb0bdab"
      },
      "id": "fCyZHdGID58M",
      "execution_count": null,
      "outputs": [
        {
          "output_type": "display_data",
          "data": {
            "text/plain": [
              "<Figure size 500x500 with 1 Axes>"
            ],
            "image/png": "[encoded data removed]"
          },
          "metadata": {
            "needs_background": "light"
          }
        }
      ]
    },
    {
      "cell_type": "markdown",
      "id": "ecb4a146",
      "metadata": {
        "id": "ecb4a146"
      },
      "source": [
        "<a id = '5.4'></a>\n",
        "<p style = \"font-size : 25px; color : #34656d ; font-family : 'Comic Sans MS'; text-align : center; background-color : #fbc6a4; border-radius: 5px 5px;\"><strong>Ada Boost Classifier</strong></p>"
      ]
    },
    {
      "cell_type": "code",
      "execution_count": null,
      "id": "b78ff36b",
      "metadata": {
        "colab": {
          "base_uri": "https://localhost:8080/"
        },
        "id": "b78ff36b",
        "outputId": "99b02bc0-492d-45d5-a5ba-ed68d0c8114e"
      },
      "outputs": [
        {
          "output_type": "stream",
          "name": "stdout",
          "text": [
            "Training Accuracy of Ada Boost Classifier is 0.99375\n",
            "Test Accuracy of Ada Boost Classifier is 0.975 \n",
            "\n",
            "Confusion Matrix :- \n",
            "[[52  0]\n",
            " [ 2 26]]\n",
            "\n",
            "Classification Report :- \n",
            "               precision    recall  f1-score   support\n",
            "\n",
            "           0       0.96      1.00      0.98        52\n",
            "           1       1.00      0.93      0.96        28\n",
            "\n",
            "    accuracy                           0.97        80\n",
            "   macro avg       0.98      0.96      0.97        80\n",
            "weighted avg       0.98      0.97      0.97        80\n",
            "\n"
          ]
        }
      ],
      "source": [
        "from sklearn.ensemble import AdaBoostClassifier\n",
        "\n",
        "ada = AdaBoostClassifier(base_estimator = dtc)\n",
        "ada.fit(X_train, y_train)\n",
        "\n",
        "# accuracy score, confusion matrix and classification report of ada boost\n",
        "\n",
        "ada_acc = accuracy_score(y_test, ada.predict(X_test))\n",
        "\n",
        "print(f\"Training Accuracy of Ada Boost Classifier is {accuracy_score(y_train, ada.predict(X_train))}\")\n",
        "print(f\"Test Accuracy of Ada Boost Classifier is {ada_acc} \\n\")\n",
        "\n",
        "print(f\"Confusion Matrix :- \\n{confusion_matrix(y_test, ada.predict(X_test))}\\n\")\n",
        "print(f\"Classification Report :- \\n {classification_report(y_test, ada.predict(X_test))}\")"
      ]
    },
    {
      "cell_type": "code",
      "source": [
        "from sklearn.metrics import roc_curve, auc\n",
        "\n",
        "y_pred_ada = ada.predict(X_test)\n",
        "logistic_fpr, logistic_tpr, threshold = roc_curve(y_test, y_pred_ada)\n",
        "au = auc(logistic_fpr, logistic_tpr)\n",
        "\n",
        "\n",
        "\n",
        "plt.figure(figsize=(5, 5), dpi=100)\n",
        "plt.plot(logistic_fpr, logistic_tpr, marker='.', label='ADA (auc = %0.3f)' % au)\n",
        "\n",
        "plt.xlabel('False Positive Rate -->')\n",
        "plt.ylabel('True Positive Rate -->')\n",
        "\n",
        "plt.legend()\n",
        "\n",
        "plt.show()"
      ],
      "metadata": {
        "colab": {
          "base_uri": "https://localhost:8080/",
          "height": 457
        },
        "id": "Y3VJtac-GPXV",
        "outputId": "c49478c9-0afd-4c31-b6ff-0bd81413cbcf"
      },
      "id": "Y3VJtac-GPXV",
      "execution_count": null,
      "outputs": [
        {
          "output_type": "display_data",
          "data": {
            "text/plain": [
              "<Figure size 500x500 with 1 Axes>"
            ],
            "image/png": "[encoded data removed]"
          },
          "metadata": {
            "needs_background": "light"
          }
        }
      ]
    },
    {
      "cell_type": "markdown",
      "id": "39681949",
      "metadata": {
        "id": "39681949"
      },
      "source": [
        "<a id = '5.5'></a>\n",
        "<p style = \"font-size : 25px; color : #34656d ; font-family : 'Comic Sans MS'; text-align : center; background-color : #fbc6a4; border-radius: 5px 5px;\"><strong>Gradient Boosting Classifier</strong></p>"
      ]
    },
    {
      "cell_type": "code",
      "execution_count": null,
      "id": "a13b3203",
      "metadata": {
        "colab": {
          "base_uri": "https://localhost:8080/"
        },
        "id": "a13b3203",
        "outputId": "d1ff3e8a-f664-4c76-f54f-575308fe4ba2"
      },
      "outputs": [
        {
          "output_type": "stream",
          "name": "stdout",
          "text": [
            "Training Accuracy of Gradient Boosting Classifier is 0.99375\n",
            "Test Accuracy of Gradient Boosting Classifier is 0.975 \n",
            "\n",
            "Confusion Matrix :- \n",
            "[[52  0]\n",
            " [ 2 26]]\n",
            "\n",
            "Classification Report :- \n",
            "               precision    recall  f1-score   support\n",
            "\n",
            "           0       0.96      1.00      0.98        52\n",
            "           1       1.00      0.93      0.96        28\n",
            "\n",
            "    accuracy                           0.97        80\n",
            "   macro avg       0.98      0.96      0.97        80\n",
            "weighted avg       0.98      0.97      0.97        80\n",
            "\n"
          ]
        }
      ],
      "source": [
        "from sklearn.ensemble import GradientBoostingClassifier\n",
        "\n",
        "gb = GradientBoostingClassifier()\n",
        "gb.fit(X_train, y_train)\n",
        "\n",
        "# accuracy score, confusion matrix and classification report of gradient boosting classifier\n",
        "\n",
        "gb_acc = accuracy_score(y_test, gb.predict(X_test))\n",
        "\n",
        "print(f\"Training Accuracy of Gradient Boosting Classifier is {accuracy_score(y_train, gb.predict(X_train))}\")\n",
        "print(f\"Test Accuracy of Gradient Boosting Classifier is {gb_acc} \\n\")\n",
        "\n",
        "print(f\"Confusion Matrix :- \\n{confusion_matrix(y_test, gb.predict(X_test))}\\n\")\n",
        "print(f\"Classification Report :- \\n {classification_report(y_test, gb.predict(X_test))}\")"
      ]
    },
    {
      "cell_type": "code",
      "source": [
        "from sklearn.metrics import roc_curve, auc\n",
        "\n",
        "y_pred_gb = gb.predict(X_test)\n",
        "logistic_fpr, logistic_tpr, threshold = roc_curve(y_test, y_pred_gb)\n",
        "auc_logistic = auc(logistic_fpr, logistic_tpr)\n",
        "\n",
        "\n",
        "\n",
        "plt.figure(figsize=(5, 5), dpi=100)\n",
        "plt.plot(logistic_fpr, logistic_tpr, marker='.', label='GB (auc = %0.3f)' % auc_logistic)\n",
        "\n",
        "plt.xlabel('False Positive Rate -->')\n",
        "plt.ylabel('True Positive Rate -->')\n",
        "\n",
        "plt.legend()\n",
        "\n",
        "plt.show()"
      ],
      "metadata": {
        "colab": {
          "base_uri": "https://localhost:8080/",
          "height": 457
        },
        "id": "ab4ZL0xBG_mi",
        "outputId": "421774fc-30d8-4472-8e43-eb7587f4e05f"
      },
      "id": "ab4ZL0xBG_mi",
      "execution_count": null,
      "outputs": [
        {
          "output_type": "display_data",
          "data": {
            "text/plain": [
              "<Figure size 500x500 with 1 Axes>"
            ],
            "image/png": "[encoded data removed]"
          },
          "metadata": {
            "needs_background": "light"
          }
        }
      ]
    },
    {
      "cell_type": "markdown",
      "id": "08ca4967",
      "metadata": {
        "id": "08ca4967"
      },
      "source": [
        "<a id = '5.6'></a>\n",
        "<p style = \"font-size : 25px; color : #34656d ; font-family : 'Comic Sans MS'; text-align : center; background-color : #fbc6a4; border-radius: 5px 5px;\"><strong>Stochastic Gradient Boosting (SGB)</strong></p>"
      ]
    },
    {
      "cell_type": "code",
      "execution_count": null,
      "id": "0270b3dc",
      "metadata": {
        "colab": {
          "base_uri": "https://localhost:8080/"
        },
        "id": "0270b3dc",
        "outputId": "ca0c9a7d-7115-4d2a-fec8-85b706d18632"
      },
      "outputs": [
        {
          "output_type": "stream",
          "name": "stdout",
          "text": [
            "Training Accuracy of Stochastic Gradient Boosting is 0.99375\n",
            "Test Accuracy of Stochastic Gradient Boosting is 0.975 \n",
            "\n",
            "Confusion Matrix :- \n",
            "[[52  0]\n",
            " [ 2 26]]\n",
            "\n",
            "Classification Report :- \n",
            "               precision    recall  f1-score   support\n",
            "\n",
            "           0       0.96      1.00      0.98        52\n",
            "           1       1.00      0.93      0.96        28\n",
            "\n",
            "    accuracy                           0.97        80\n",
            "   macro avg       0.98      0.96      0.97        80\n",
            "weighted avg       0.98      0.97      0.97        80\n",
            "\n"
          ]
        }
      ],
      "source": [
        "sgb = GradientBoostingClassifier(max_depth = 4, subsample = 0.90, max_features = 0.75, n_estimators = 200)\n",
        "sgb.fit(X_train, y_train)\n",
        "\n",
        "# accuracy score, confusion matrix and classification report of stochastic gradient boosting classifier\n",
        "\n",
        "sgb_acc = accuracy_score(y_test, sgb.predict(X_test))\n",
        "\n",
        "print(f\"Training Accuracy of Stochastic Gradient Boosting is {accuracy_score(y_train, sgb.predict(X_train))}\")\n",
        "print(f\"Test Accuracy of Stochastic Gradient Boosting is {sgb_acc} \\n\")\n",
        "\n",
        "print(f\"Confusion Matrix :- \\n{confusion_matrix(y_test, sgb.predict(X_test))}\\n\")\n",
        "print(f\"Classification Report :- \\n {classification_report(y_test, sgb.predict(X_test))}\")"
      ]
    },
    {
      "cell_type": "code",
      "source": [
        "from sklearn.metrics import roc_curve, auc\n",
        "\n",
        "y_pred_sgb = sgb.predict(X_test)\n",
        "logistic_fpr, logistic_tpr, threshold = roc_curve(y_test, y_pred_sgb)\n",
        "auc_logistic = auc(logistic_fpr, logistic_tpr)\n",
        "\n",
        "\n",
        "\n",
        "plt.figure(figsize=(5, 5), dpi=100)\n",
        "plt.plot(logistic_fpr, logistic_tpr, marker='.', label='sgb (auc = %0.3f)' % auc_logistic)\n",
        "\n",
        "plt.xlabel('False Positive Rate -->')\n",
        "plt.ylabel('True Positive Rate -->')\n",
        "\n",
        "plt.legend()\n",
        "\n",
        "plt.show()"
      ],
      "metadata": {
        "colab": {
          "base_uri": "https://localhost:8080/",
          "height": 457
        },
        "id": "mHzPKmE3HU6_",
        "outputId": "cb70e7fb-a6d3-49f6-96df-efe889c5997b"
      },
      "id": "mHzPKmE3HU6_",
      "execution_count": null,
      "outputs": [
        {
          "output_type": "display_data",
          "data": {
            "text/plain": [
              "<Figure size 500x500 with 1 Axes>"
            ],
            "image/png": "[encoded data removed]"
          },
          "metadata": {
            "needs_background": "light"
          }
        }
      ]
    },
    {
      "cell_type": "markdown",
      "id": "bad3dd1b",
      "metadata": {
        "id": "bad3dd1b"
      },
      "source": [
        "<a id = '5.7'></a>\n",
        "<p style = \"font-size : 25px; color : #34656d ; font-family : 'Comic Sans MS'; text-align : center; background-color : #fbc6a4; border-radius: 5px 5px;\"><strong>XgBoost</strong></p>"
      ]
    },
    {
      "cell_type": "code",
      "execution_count": null,
      "id": "e9240394",
      "metadata": {
        "colab": {
          "base_uri": "https://localhost:8080/"
        },
        "id": "e9240394",
        "outputId": "4098a8e4-a560-4ad9-a83c-4b2f4bf74b93"
      },
      "outputs": [
        {
          "output_type": "stream",
          "name": "stdout",
          "text": [
            "Training Accuracy of XgBoost is 0.984375\n",
            "Test Accuracy of XgBoost is 0.975 \n",
            "\n",
            "Confusion Matrix :- \n",
            "[[52  0]\n",
            " [ 2 26]]\n",
            "\n",
            "Classification Report :- \n",
            "               precision    recall  f1-score   support\n",
            "\n",
            "           0       0.96      1.00      0.98        52\n",
            "           1       1.00      0.93      0.96        28\n",
            "\n",
            "    accuracy                           0.97        80\n",
            "   macro avg       0.98      0.96      0.97        80\n",
            "weighted avg       0.98      0.97      0.97        80\n",
            "\n"
          ]
        }
      ],
      "source": [
        "from xgboost import XGBClassifier\n",
        "\n",
        "xgb = XGBClassifier(objective = 'binary:logistic', learning_rate = 0.5, max_depth = 5, n_estimators = 150)\n",
        "xgb.fit(X_train, y_train)\n",
        "\n",
        "# accuracy score, confusion matrix and classification report of xgboost\n",
        "\n",
        "xgb_acc = accuracy_score(y_test, xgb.predict(X_test))\n",
        "\n",
        "print(f\"Training Accuracy of XgBoost is {accuracy_score(y_train, xgb.predict(X_train))}\")\n",
        "print(f\"Test Accuracy of XgBoost is {xgb_acc} \\n\")\n",
        "\n",
        "print(f\"Confusion Matrix :- \\n{confusion_matrix(y_test, xgb.predict(X_test))}\\n\")\n",
        "print(f\"Classification Report :- \\n {classification_report(y_test, xgb.predict(X_test))}\")"
      ]
    },
    {
      "cell_type": "code",
      "source": [
        "from sklearn.metrics import roc_curve, auc\n",
        "\n",
        "y_pred_xgb = xgb.predict(X_test)\n",
        "logistic_fpr, logistic_tpr, threshold = roc_curve(y_test, y_pred_xgb)\n",
        "auc_logistic = auc(logistic_fpr, logistic_tpr)\n",
        "\n",
        "\n",
        "\n",
        "plt.figure(figsize=(5, 5), dpi=100)\n",
        "plt.plot(logistic_fpr, logistic_tpr, marker='.', label='xgb (auc = %0.3f)' % auc_logistic)\n",
        "\n",
        "plt.xlabel('False Positive Rate -->')\n",
        "plt.ylabel('True Positive Rate -->')\n",
        "\n",
        "plt.legend()\n",
        "\n",
        "plt.show()"
      ],
      "metadata": {
        "colab": {
          "base_uri": "https://localhost:8080/",
          "height": 457
        },
        "id": "6q7Q7re1HvSH",
        "outputId": "82bb13f3-0be3-4b71-fffd-1ce05d4f35a2"
      },
      "id": "6q7Q7re1HvSH",
      "execution_count": null,
      "outputs": [
        {
          "output_type": "display_data",
          "data": {
            "text/plain": [
              "<Figure size 500x500 with 1 Axes>"
            ],
            "image/png": "[encoded data removed]"
          },
          "metadata": {
            "needs_background": "light"
          }
        }
      ]
    },
    {
      "cell_type": "markdown",
      "id": "fb95f577",
      "metadata": {
        "id": "fb95f577"
      },
      "source": [
        "<a id = '5.8'></a>\n",
        "<p style = \"font-size : 25px; color : #34656d ; font-family : 'Comic Sans MS'; text-align : center; background-color : #fbc6a4; border-radius: 5px 5px;\"><strong>Cat Boost Classifier</strong></p>"
      ]
    },
    {
      "cell_type": "markdown",
      "id": "163e2b66",
      "metadata": {
        "id": "163e2b66"
      },
      "source": [
        "<a id = '5.9'></a>\n",
        "<p style = \"font-size : 25px; color : #34656d ; font-family : 'Comic Sans MS'; text-align : center; background-color : #fbc6a4; border-radius: 5px 5px;\"><strong>Extra Trees Classifier</strong></p>"
      ]
    },
    {
      "cell_type": "code",
      "execution_count": null,
      "id": "fa0260e3",
      "metadata": {
        "colab": {
          "base_uri": "https://localhost:8080/"
        },
        "id": "fa0260e3",
        "outputId": "da1db594-bead-4d48-b5ad-1cd482add16d"
      },
      "outputs": [
        {
          "output_type": "stream",
          "name": "stdout",
          "text": [
            "Training Accuracy of Extra Trees Classifier is 0.99375\n",
            "Test Accuracy of Extra Trees Classifier is 0.975 \n",
            "\n",
            "Confusion Matrix :- \n",
            "[[52  0]\n",
            " [ 2 26]]\n",
            "\n",
            "Classification Report :- \n",
            "               precision    recall  f1-score   support\n",
            "\n",
            "           0       0.96      1.00      0.98        52\n",
            "           1       1.00      0.93      0.96        28\n",
            "\n",
            "    accuracy                           0.97        80\n",
            "   macro avg       0.98      0.96      0.97        80\n",
            "weighted avg       0.98      0.97      0.97        80\n",
            "\n"
          ]
        }
      ],
      "source": [
        "from sklearn.ensemble import ExtraTreesClassifier\n",
        "\n",
        "etc = ExtraTreesClassifier()\n",
        "etc.fit(X_train, y_train)\n",
        "\n",
        "# accuracy score, confusion matrix and classification report of extra trees classifier\n",
        "\n",
        "etc_acc = accuracy_score(y_test, etc.predict(X_test))\n",
        "\n",
        "print(f\"Training Accuracy of Extra Trees Classifier is {accuracy_score(y_train, etc.predict(X_train))}\")\n",
        "print(f\"Test Accuracy of Extra Trees Classifier is {etc_acc} \\n\")\n",
        "\n",
        "print(f\"Confusion Matrix :- \\n{confusion_matrix(y_test, etc.predict(X_test))}\\n\")\n",
        "print(f\"Classification Report :- \\n {classification_report(y_test, etc.predict(X_test))}\")"
      ]
    },
    {
      "cell_type": "code",
      "source": [
        "from sklearn.metrics import roc_curve, auc\n",
        "\n",
        "y_pred_etc = etc.predict(X_test)\n",
        "logistic_fpr, logistic_tpr, threshold = roc_curve(y_test, y_pred_etc)\n",
        "auc_logistic = auc(logistic_fpr, logistic_tpr)\n",
        "\n",
        "\n",
        "\n",
        "plt.figure(figsize=(5, 5), dpi=100)\n",
        "plt.plot(logistic_fpr, logistic_tpr, marker='.', label='ETC (auc = %0.3f)' % auc_logistic)\n",
        "\n",
        "plt.xlabel('False Positive Rate -->')\n",
        "plt.ylabel('True Positive Rate -->')\n",
        "\n",
        "plt.legend()\n",
        "\n",
        "plt.show()"
      ],
      "metadata": {
        "colab": {
          "base_uri": "https://localhost:8080/",
          "height": 457
        },
        "id": "-dsvAUL4H_0_",
        "outputId": "013662a0-ba16-4427-ad05-f7410cfed48a"
      },
      "id": "-dsvAUL4H_0_",
      "execution_count": null,
      "outputs": [
        {
          "output_type": "display_data",
          "data": {
            "text/plain": [
              "<Figure size 500x500 with 1 Axes>"
            ],
            "image/png": "[encoded data removed]"
          },
          "metadata": {
            "needs_background": "light"
          }
        }
      ]
    },
    {
      "cell_type": "markdown",
      "id": "9a1ef9c8",
      "metadata": {
        "id": "9a1ef9c8"
      },
      "source": [
        "<a id = '5.10'></a>\n",
        "<p style = \"font-size : 25px; color : #34656d ; font-family : 'Comic Sans MS'; text-align : center; background-color : #fbc6a4; border-radius: 5px 5px;\"><strong>LGBM Classifier</strong></p>"
      ]
    },
    {
      "cell_type": "code",
      "execution_count": null,
      "id": "f6a932da",
      "metadata": {
        "colab": {
          "base_uri": "https://localhost:8080/"
        },
        "id": "f6a932da",
        "outputId": "1cc13ae0-ba84-4aa9-c5b6-8361f91172f5"
      },
      "outputs": [
        {
          "output_type": "stream",
          "name": "stdout",
          "text": [
            "Training Accuracy of LGBM Classifier is 0.99375\n",
            "Test Accuracy of LGBM Classifier is 0.975 \n",
            "\n",
            "[[52  0]\n",
            " [ 2 26]]\n",
            "\n",
            "              precision    recall  f1-score   support\n",
            "\n",
            "           0       0.96      1.00      0.98        52\n",
            "           1       1.00      0.93      0.96        28\n",
            "\n",
            "    accuracy                           0.97        80\n",
            "   macro avg       0.98      0.96      0.97        80\n",
            "weighted avg       0.98      0.97      0.97        80\n",
            "\n"
          ]
        }
      ],
      "source": [
        "from lightgbm import LGBMClassifier\n",
        "\n",
        "lgbm = LGBMClassifier(learning_rate = 1)\n",
        "lgbm.fit(X_train, y_train)\n",
        "\n",
        "# accuracy score, confusion matrix and classification report of lgbm classifier\n",
        "\n",
        "lgbm_acc = accuracy_score(y_test, lgbm.predict(X_test))\n",
        "\n",
        "print(f\"Training Accuracy of LGBM Classifier is {accuracy_score(y_train, lgbm.predict(X_train))}\")\n",
        "print(f\"Test Accuracy of LGBM Classifier is {lgbm_acc} \\n\")\n",
        "\n",
        "print(f\"{confusion_matrix(y_test, lgbm.predict(X_test))}\\n\")\n",
        "print(classification_report(y_test, lgbm.predict(X_test)))"
      ]
    },
    {
      "cell_type": "code",
      "source": [
        "from sklearn.metrics import roc_curve, auc\n",
        "\n",
        "y_pred_lgbm = lgbm.predict(X_test)\n",
        "logistic_fpr, logistic_tpr, threshold = roc_curve(y_test, y_pred_lgbm)\n",
        "auc_logistic = auc(logistic_fpr, logistic_tpr)\n",
        "\n",
        "\n",
        "\n",
        "plt.figure(figsize=(5, 5), dpi=100)\n",
        "plt.plot(logistic_fpr, logistic_tpr, marker='.', label='LGBM (auc = %0.3f)' % auc_logistic)\n",
        "\n",
        "plt.xlabel('False Positive Rate -->')\n",
        "plt.ylabel('True Positive Rate -->')\n",
        "\n",
        "plt.legend()\n",
        "\n",
        "plt.show()"
      ],
      "metadata": {
        "colab": {
          "base_uri": "https://localhost:8080/",
          "height": 457
        },
        "id": "bwC-EevrIPY2",
        "outputId": "30820429-3148-4615-883c-dd2974a4dfba"
      },
      "id": "bwC-EevrIPY2",
      "execution_count": null,
      "outputs": [
        {
          "output_type": "display_data",
          "data": {
            "text/plain": [
              "<Figure size 500x500 with 1 Axes>"
            ],
            "image/png": "[encoded data removed]"
          },
          "metadata": {
            "needs_background": "light"
          }
        }
      ]
    },
    {
      "cell_type": "code",
      "source": [],
      "metadata": {
        "id": "OWfMhv76IN-Z"
      },
      "id": "OWfMhv76IN-Z",
      "execution_count": null,
      "outputs": []
    },
    {
      "cell_type": "markdown",
      "id": "1bad90b3",
      "metadata": {
        "id": "1bad90b3"
      },
      "source": [
        "<a id = '6.0'></a>\n",
        "<p style = \"font-size : 35px; color : #34656d ; font-family : 'Comic Sans MS'; text-align : center; background-color : #f9b208; border-radius: 5px 5px;\"><strong>Models Comparison</strong></p>"
      ]
    },
    {
      "cell_type": "code",
      "execution_count": null,
      "id": "d0edf63f",
      "metadata": {
        "colab": {
          "base_uri": "https://localhost:8080/",
          "height": 300
        },
        "id": "d0edf63f",
        "outputId": "b2b47924-00c9-47b9-e567-4939bbc362bd"
      },
      "outputs": [
        {
          "output_type": "execute_result",
          "data": {
            "text/plain": [
              "                          Model   Score\n",
              "1      Decision Tree Classifier  0.9625\n",
              "3          Ada Boost Classifier  0.9625\n",
              "0                           KNN  0.9500\n",
              "2      Random Forest Classifier  0.9500\n",
              "4  Gradient Boosting Classifier  0.9500\n",
              "5  Stochastic Gradient Boosting  0.9500\n",
              "6                       XgBoost  0.9500\n",
              "7        Extra Trees Classifier  0.9500"
            ],
            "text/html": [
              "\n",
              "  <div id=\"df-bc226665-23b8-462f-acac-8ab6febfd41e\">\n",
              "    <div class=\"colab-df-container\">\n",
              "      <div>\n",
              "<style scoped>\n",
              "    .dataframe tbody tr th:only-of-type {\n",
              "        vertical-align: middle;\n",
              "    }\n",
              "\n",
              "    .dataframe tbody tr th {\n",
              "        vertical-align: top;\n",
              "    }\n",
              "\n",
              "    .dataframe thead th {\n",
              "        text-align: right;\n",
              "    }\n",
              "</style>\n",
              "<table border=\"1\" class=\"dataframe\">\n",
              "  <thead>\n",
              "    <tr style=\"text-align: right;\">\n",
              "      <th></th>\n",
              "      <th>Model</th>\n",
              "      <th>Score</th>\n",
              "    </tr>\n",
              "  </thead>\n",
              "  <tbody>\n",
              "    <tr>\n",
              "      <th>1</th>\n",
              "      <td>Decision Tree Classifier</td>\n",
              "      <td>0.9625</td>\n",
              "    </tr>\n",
              "    <tr>\n",
              "      <th>3</th>\n",
              "      <td>Ada Boost Classifier</td>\n",
              "      <td>0.9625</td>\n",
              "    </tr>\n",
              "    <tr>\n",
              "      <th>0</th>\n",
              "      <td>KNN</td>\n",
              "      <td>0.9500</td>\n",
              "    </tr>\n",
              "    <tr>\n",
              "      <th>2</th>\n",
              "      <td>Random Forest Classifier</td>\n",
              "      <td>0.9500</td>\n",
              "    </tr>\n",
              "    <tr>\n",
              "      <th>4</th>\n",
              "      <td>Gradient Boosting Classifier</td>\n",
              "      <td>0.9500</td>\n",
              "    </tr>\n",
              "    <tr>\n",
              "      <th>5</th>\n",
              "      <td>Stochastic Gradient Boosting</td>\n",
              "      <td>0.9500</td>\n",
              "    </tr>\n",
              "    <tr>\n",
              "      <th>6</th>\n",
              "      <td>XgBoost</td>\n",
              "      <td>0.9500</td>\n",
              "    </tr>\n",
              "    <tr>\n",
              "      <th>7</th>\n",
              "      <td>Extra Trees Classifier</td>\n",
              "      <td>0.9500</td>\n",
              "    </tr>\n",
              "  </tbody>\n",
              "</table>\n",
              "</div>\n",
              "      <button class=\"colab-df-convert\" onclick=\"convertToInteractive('df-bc226665-23b8-462f-acac-8ab6febfd41e')\"\n",
              "              title=\"Convert this dataframe to an interactive table.\"\n",
              "              style=\"display:none;\">\n",
              "        \n",
              "  <svg xmlns=\"http://www.w3.org/2000/svg\" height=\"24px\"viewBox=\"0 0 24 24\"\n",
              "       width=\"24px\">\n",
              "    <path d=\"M0 0h24v24H0V0z\" fill=\"none\"/>\n",
              "    <path d=\"M18.56 5.44l.94 2.06.94-2.06 2.06-.94-2.06-.94-.94-2.06-.94 2.06-2.06.94zm-11 1L8.5 8.5l.94-2.06 2.06-.94-2.06-.94L8.5 2.5l-.94 2.06-2.06.94zm10 10l.94 2.06.94-2.06 2.06-.94-2.06-.94-.94-2.06-.94 2.06-2.06.94z\"/><path d=\"M17.41 7.96l-1.37-1.37c-.4-.4-.92-.59-1.43-.59-.52 0-1.04.2-1.43.59L10.3 9.45l-7.72 7.72c-.78.78-.78 2.05 0 2.83L4 21.41c.39.39.9.59 1.41.59.51 0 1.02-.2 1.41-.59l7.78-7.78 2.81-2.81c.8-.78.8-2.07 0-2.86zM5.41 20L4 18.59l7.72-7.72 1.47 1.35L5.41 20z\"/>\n",
              "  </svg>\n",
              "      </button>\n",
              "      \n",
              "  <style>\n",
              "    .colab-df-container {\n",
              "      display:flex;\n",
              "      flex-wrap:wrap;\n",
              "      gap: 12px;\n",
              "    }\n",
              "\n",
              "    .colab-df-convert {\n",
              "      background-color: #E8F0FE;\n",
              "      border: none;\n",
              "      border-radius: 50%;\n",
              "      cursor: pointer;\n",
              "      display: none;\n",
              "      fill: #1967D2;\n",
              "      height: 32px;\n",
              "      padding: 0 0 0 0;\n",
              "      width: 32px;\n",
              "    }\n",
              "\n",
              "    .colab-df-convert:hover {\n",
              "      background-color: #E2EBFA;\n",
              "      box-shadow: 0px 1px 2px rgba(60, 64, 67, 0.3), 0px 1px 3px 1px rgba(60, 64, 67, 0.15);\n",
              "      fill: #174EA6;\n",
              "    }\n",
              "\n",
              "    [theme=dark] .colab-df-convert {\n",
              "      background-color: #3B4455;\n",
              "      fill: #D2E3FC;\n",
              "    }\n",
              "\n",
              "    [theme=dark] .colab-df-convert:hover {\n",
              "      background-color: #434B5C;\n",
              "      box-shadow: 0px 1px 3px 1px rgba(0, 0, 0, 0.15);\n",
              "      filter: drop-shadow(0px 1px 2px rgba(0, 0, 0, 0.3));\n",
              "      fill: #FFFFFF;\n",
              "    }\n",
              "  </style>\n",
              "\n",
              "      <script>\n",
              "        const buttonEl =\n",
              "          document.querySelector('#df-bc226665-23b8-462f-acac-8ab6febfd41e button.colab-df-convert');\n",
              "        buttonEl.style.display =\n",
              "          google.colab.kernel.accessAllowed ? 'block' : 'none';\n",
              "\n",
              "        async function convertToInteractive(key) {\n",
              "          const element = document.querySelector('#df-bc226665-23b8-462f-acac-8ab6febfd41e');\n",
              "          const dataTable =\n",
              "            await google.colab.kernel.invokeFunction('convertToInteractive',\n",
              "                                                     [key], {});\n",
              "          if (!dataTable) return;\n",
              "\n",
              "          const docLinkHtml = 'Like what you see? Visit the ' +\n",
              "            '<a target=\"_blank\" href=https://colab.research.google.com/notebooks/data_table.ipynb>data table notebook</a>'\n",
              "            + ' to learn more about interactive tables.';\n",
              "          element.innerHTML = '';\n",
              "          dataTable['output_type'] = 'display_data';\n",
              "          await google.colab.output.renderOutput(dataTable, element);\n",
              "          const docLink = document.createElement('div');\n",
              "          docLink.innerHTML = docLinkHtml;\n",
              "          element.appendChild(docLink);\n",
              "        }\n",
              "      </script>\n",
              "    </div>\n",
              "  </div>\n",
              "  "
            ]
          },
          "metadata": {},
          "execution_count": 67
        }
      ],
      "source": [
        "models = pd.DataFrame({\n",
        "    'Model' : [ 'KNN', 'Decision Tree Classifier', 'Random Forest Classifier','Ada Boost Classifier',\n",
        "             'Gradient Boosting Classifier', 'Stochastic Gradient Boosting', 'XgBoost', 'Extra Trees Classifier'],\n",
        "    'Score' : [knn_acc, dtc_acc, rd_clf_acc, ada_acc, gb_acc, sgb_acc, xgb_acc, etc_acc]\n",
        "})\n",
        "\n",
        "\n",
        "models.sort_values(by = 'Score', ascending = False)"
      ]
    },
    {
      "cell_type": "code",
      "execution_count": null,
      "id": "472c52ec",
      "metadata": {
        "colab": {
          "base_uri": "https://localhost:8080/",
          "height": 542
        },
        "id": "472c52ec",
        "outputId": "cc12afd7-a40f-4f76-fdda-e97044348082"
      },
      "outputs": [
        {
          "output_type": "display_data",
          "data": {
            "text/html": [
              "<html>\n",
              "<head><meta charset=\"utf-8\" /></head>\n",
              "<body>\n",
              "    <div>            <script src=\"https://cdnjs.cloudflare.com/ajax/libs/mathjax/2.7.5/MathJax.js?config=TeX-AMS-MML_SVG\"></script><script type=\"text/javascript\">if (window.MathJax) {MathJax.Hub.Config({SVG: {font: \"STIX-Web\"}});}</script>                <script type=\"text/javascript\">window.PlotlyConfig = {MathJaxConfig: 'local'};</script>\n",
              "        <script src=\"https://cdn.plot.ly/plotly-2.8.3.min.js\"></script>                <div id=\"b7e16a32-e473-44cc-882c-ee951b54b1ac\" class=\"plotly-graph-div\" style=\"height:525px; width:100%;\"></div>            <script type=\"text/javascript\">                                    window.PLOTLYENV=window.PLOTLYENV || {};                                    if (document.getElementById(\"b7e16a32-e473-44cc-882c-ee951b54b1ac\")) {                    Plotly.newPlot(                        \"b7e16a32-e473-44cc-882c-ee951b54b1ac\",                        [{\"alignmentgroup\":\"True\",\"hovertemplate\":\"Score=%{marker.color}<br>Model=%{y}<extra></extra>\",\"legendgroup\":\"\",\"marker\":{\"color\":[0.95,0.9625,0.95,0.9625,0.95,0.95,0.95,0.95],\"coloraxis\":\"coloraxis\",\"pattern\":{\"shape\":\"\"}},\"name\":\"\",\"offsetgroup\":\"\",\"orientation\":\"h\",\"showlegend\":false,\"textposition\":\"auto\",\"x\":[0.95,0.9625,0.95,0.9625,0.95,0.95,0.95,0.95],\"xaxis\":\"x\",\"y\":[\"KNN\",\"Decision Tree Classifier\",\"Random Forest Classifier\",\"Ada Boost Classifier\",\"Gradient Boosting Classifier\",\"Stochastic Gradient Boosting\",\"XgBoost\",\"Extra Trees Classifier\"],\"yaxis\":\"y\",\"type\":\"bar\"}],                        {\"template\":{\"data\":{\"barpolar\":[{\"marker\":{\"line\":{\"color\":\"rgb(17,17,17)\",\"width\":0.5},\"pattern\":{\"fillmode\":\"overlay\",\"size\":10,\"solidity\":0.2}},\"type\":\"barpolar\"}],\"bar\":[{\"error_x\":{\"color\":\"#f2f5fa\"},\"error_y\":{\"color\":\"#f2f5fa\"},\"marker\":{\"line\":{\"color\":\"rgb(17,17,17)\",\"width\":0.5},\"pattern\":{\"fillmode\":\"overlay\",\"size\":10,\"solidity\":0.2}},\"type\":\"bar\"}],\"carpet\":[{\"aaxis\":{\"endlinecolor\":\"#A2B1C6\",\"gridcolor\":\"#506784\",\"linecolor\":\"#506784\",\"minorgridcolor\":\"#506784\",\"startlinecolor\":\"#A2B1C6\"},\"baxis\":{\"endlinecolor\":\"#A2B1C6\",\"gridcolor\":\"#506784\",\"linecolor\":\"#506784\",\"minorgridcolor\":\"#506784\",\"startlinecolor\":\"#A2B1C6\"},\"type\":\"carpet\"}],\"choropleth\":[{\"colorbar\":{\"outlinewidth\":0,\"ticks\":\"\"},\"type\":\"choropleth\"}],\"contourcarpet\":[{\"colorbar\":{\"outlinewidth\":0,\"ticks\":\"\"},\"type\":\"contourcarpet\"}],\"contour\":[{\"colorbar\":{\"outlinewidth\":0,\"ticks\":\"\"},\"colorscale\":[[0.0,\"#0d0887\"],[0.1111111111111111,\"#46039f\"],[0.2222222222222222,\"#7201a8\"],[0.3333333333333333,\"#9c179e\"],[0.4444444444444444,\"#bd3786\"],[0.5555555555555556,\"#d8576b\"],[0.6666666666666666,\"#ed7953\"],[0.7777777777777778,\"#fb9f3a\"],[0.8888888888888888,\"#fdca26\"],[1.0,\"#f0f921\"]],\"type\":\"contour\"}],\"heatmapgl\":[{\"colorbar\":{\"outlinewidth\":0,\"ticks\":\"\"},\"colorscale\":[[0.0,\"#0d0887\"],[0.1111111111111111,\"#46039f\"],[0.2222222222222222,\"#7201a8\"],[0.3333333333333333,\"#9c179e\"],[0.4444444444444444,\"#bd3786\"],[0.5555555555555556,\"#d8576b\"],[0.6666666666666666,\"#ed7953\"],[0.7777777777777778,\"#fb9f3a\"],[0.8888888888888888,\"#fdca26\"],[1.0,\"#f0f921\"]],\"type\":\"heatmapgl\"}],\"heatmap\":[{\"colorbar\":{\"outlinewidth\":0,\"ticks\":\"\"},\"colorscale\":[[0.0,\"#0d0887\"],[0.1111111111111111,\"#46039f\"],[0.2222222222222222,\"#7201a8\"],[0.3333333333333333,\"#9c179e\"],[0.4444444444444444,\"#bd3786\"],[0.5555555555555556,\"#d8576b\"],[0.6666666666666666,\"#ed7953\"],[0.7777777777777778,\"#fb9f3a\"],[0.8888888888888888,\"#fdca26\"],[1.0,\"#f0f921\"]],\"type\":\"heatmap\"}],\"histogram2dcontour\":[{\"colorbar\":{\"outlinewidth\":0,\"ticks\":\"\"},\"colorscale\":[[0.0,\"#0d0887\"],[0.1111111111111111,\"#46039f\"],[0.2222222222222222,\"#7201a8\"],[0.3333333333333333,\"#9c179e\"],[0.4444444444444444,\"#bd3786\"],[0.5555555555555556,\"#d8576b\"],[0.6666666666666666,\"#ed7953\"],[0.7777777777777778,\"#fb9f3a\"],[0.8888888888888888,\"#fdca26\"],[1.0,\"#f0f921\"]],\"type\":\"histogram2dcontour\"}],\"histogram2d\":[{\"colorbar\":{\"outlinewidth\":0,\"ticks\":\"\"},\"colorscale\":[[0.0,\"#0d0887\"],[0.1111111111111111,\"#46039f\"],[0.2222222222222222,\"#7201a8\"],[0.3333333333333333,\"#9c179e\"],[0.4444444444444444,\"#bd3786\"],[0.5555555555555556,\"#d8576b\"],[0.6666666666666666,\"#ed7953\"],[0.7777777777777778,\"#fb9f3a\"],[0.8888888888888888,\"#fdca26\"],[1.0,\"#f0f921\"]],\"type\":\"histogram2d\"}],\"histogram\":[{\"marker\":{\"pattern\":{\"fillmode\":\"overlay\",\"size\":10,\"solidity\":0.2}},\"type\":\"histogram\"}],\"mesh3d\":[{\"colorbar\":{\"outlinewidth\":0,\"ticks\":\"\"},\"type\":\"mesh3d\"}],\"parcoords\":[{\"line\":{\"colorbar\":{\"outlinewidth\":0,\"ticks\":\"\"}},\"type\":\"parcoords\"}],\"pie\":[{\"automargin\":true,\"type\":\"pie\"}],\"scatter3d\":[{\"line\":{\"colorbar\":{\"outlinewidth\":0,\"ticks\":\"\"}},\"marker\":{\"colorbar\":{\"outlinewidth\":0,\"ticks\":\"\"}},\"type\":\"scatter3d\"}],\"scattercarpet\":[{\"marker\":{\"colorbar\":{\"outlinewidth\":0,\"ticks\":\"\"}},\"type\":\"scattercarpet\"}],\"scattergeo\":[{\"marker\":{\"colorbar\":{\"outlinewidth\":0,\"ticks\":\"\"}},\"type\":\"scattergeo\"}],\"scattergl\":[{\"marker\":{\"line\":{\"color\":\"#283442\"}},\"type\":\"scattergl\"}],\"scattermapbox\":[{\"marker\":{\"colorbar\":{\"outlinewidth\":0,\"ticks\":\"\"}},\"type\":\"scattermapbox\"}],\"scatterpolargl\":[{\"marker\":{\"colorbar\":{\"outlinewidth\":0,\"ticks\":\"\"}},\"type\":\"scatterpolargl\"}],\"scatterpolar\":[{\"marker\":{\"colorbar\":{\"outlinewidth\":0,\"ticks\":\"\"}},\"type\":\"scatterpolar\"}],\"scatter\":[{\"marker\":{\"line\":{\"color\":\"#283442\"}},\"type\":\"scatter\"}],\"scatterternary\":[{\"marker\":{\"colorbar\":{\"outlinewidth\":0,\"ticks\":\"\"}},\"type\":\"scatterternary\"}],\"surface\":[{\"colorbar\":{\"outlinewidth\":0,\"ticks\":\"\"},\"colorscale\":[[0.0,\"#0d0887\"],[0.1111111111111111,\"#46039f\"],[0.2222222222222222,\"#7201a8\"],[0.3333333333333333,\"#9c179e\"],[0.4444444444444444,\"#bd3786\"],[0.5555555555555556,\"#d8576b\"],[0.6666666666666666,\"#ed7953\"],[0.7777777777777778,\"#fb9f3a\"],[0.8888888888888888,\"#fdca26\"],[1.0,\"#f0f921\"]],\"type\":\"surface\"}],\"table\":[{\"cells\":{\"fill\":{\"color\":\"#506784\"},\"line\":{\"color\":\"rgb(17,17,17)\"}},\"header\":{\"fill\":{\"color\":\"#2a3f5f\"},\"line\":{\"color\":\"rgb(17,17,17)\"}},\"type\":\"table\"}]},\"layout\":{\"annotationdefaults\":{\"arrowcolor\":\"#f2f5fa\",\"arrowhead\":0,\"arrowwidth\":1},\"autotypenumbers\":\"strict\",\"coloraxis\":{\"colorbar\":{\"outlinewidth\":0,\"ticks\":\"\"}},\"colorscale\":{\"diverging\":[[0,\"#8e0152\"],[0.1,\"#c51b7d\"],[0.2,\"#de77ae\"],[0.3,\"#f1b6da\"],[0.4,\"#fde0ef\"],[0.5,\"#f7f7f7\"],[0.6,\"#e6f5d0\"],[0.7,\"#b8e186\"],[0.8,\"#7fbc41\"],[0.9,\"#4d9221\"],[1,\"#276419\"]],\"sequential\":[[0.0,\"#0d0887\"],[0.1111111111111111,\"#46039f\"],[0.2222222222222222,\"#7201a8\"],[0.3333333333333333,\"#9c179e\"],[0.4444444444444444,\"#bd3786\"],[0.5555555555555556,\"#d8576b\"],[0.6666666666666666,\"#ed7953\"],[0.7777777777777778,\"#fb9f3a\"],[0.8888888888888888,\"#fdca26\"],[1.0,\"#f0f921\"]],\"sequentialminus\":[[0.0,\"#0d0887\"],[0.1111111111111111,\"#46039f\"],[0.2222222222222222,\"#7201a8\"],[0.3333333333333333,\"#9c179e\"],[0.4444444444444444,\"#bd3786\"],[0.5555555555555556,\"#d8576b\"],[0.6666666666666666,\"#ed7953\"],[0.7777777777777778,\"#fb9f3a\"],[0.8888888888888888,\"#fdca26\"],[1.0,\"#f0f921\"]]},\"colorway\":[\"#636efa\",\"#EF553B\",\"#00cc96\",\"#ab63fa\",\"#FFA15A\",\"#19d3f3\",\"#FF6692\",\"#B6E880\",\"#FF97FF\",\"#FECB52\"],\"font\":{\"color\":\"#f2f5fa\"},\"geo\":{\"bgcolor\":\"rgb(17,17,17)\",\"lakecolor\":\"rgb(17,17,17)\",\"landcolor\":\"rgb(17,17,17)\",\"showlakes\":true,\"showland\":true,\"subunitcolor\":\"#506784\"},\"hoverlabel\":{\"align\":\"left\"},\"hovermode\":\"closest\",\"mapbox\":{\"style\":\"dark\"},\"paper_bgcolor\":\"rgb(17,17,17)\",\"plot_bgcolor\":\"rgb(17,17,17)\",\"polar\":{\"angularaxis\":{\"gridcolor\":\"#506784\",\"linecolor\":\"#506784\",\"ticks\":\"\"},\"bgcolor\":\"rgb(17,17,17)\",\"radialaxis\":{\"gridcolor\":\"#506784\",\"linecolor\":\"#506784\",\"ticks\":\"\"}},\"scene\":{\"xaxis\":{\"backgroundcolor\":\"rgb(17,17,17)\",\"gridcolor\":\"#506784\",\"gridwidth\":2,\"linecolor\":\"#506784\",\"showbackground\":true,\"ticks\":\"\",\"zerolinecolor\":\"#C8D4E3\"},\"yaxis\":{\"backgroundcolor\":\"rgb(17,17,17)\",\"gridcolor\":\"#506784\",\"gridwidth\":2,\"linecolor\":\"#506784\",\"showbackground\":true,\"ticks\":\"\",\"zerolinecolor\":\"#C8D4E3\"},\"zaxis\":{\"backgroundcolor\":\"rgb(17,17,17)\",\"gridcolor\":\"#506784\",\"gridwidth\":2,\"linecolor\":\"#506784\",\"showbackground\":true,\"ticks\":\"\",\"zerolinecolor\":\"#C8D4E3\"}},\"shapedefaults\":{\"line\":{\"color\":\"#f2f5fa\"}},\"sliderdefaults\":{\"bgcolor\":\"#C8D4E3\",\"bordercolor\":\"rgb(17,17,17)\",\"borderwidth\":1,\"tickwidth\":0},\"ternary\":{\"aaxis\":{\"gridcolor\":\"#506784\",\"linecolor\":\"#506784\",\"ticks\":\"\"},\"baxis\":{\"gridcolor\":\"#506784\",\"linecolor\":\"#506784\",\"ticks\":\"\"},\"bgcolor\":\"rgb(17,17,17)\",\"caxis\":{\"gridcolor\":\"#506784\",\"linecolor\":\"#506784\",\"ticks\":\"\"}},\"title\":{\"x\":0.05},\"updatemenudefaults\":{\"bgcolor\":\"#506784\",\"borderwidth\":0},\"xaxis\":{\"automargin\":true,\"gridcolor\":\"#283442\",\"linecolor\":\"#506784\",\"ticks\":\"\",\"title\":{\"standoff\":15},\"zerolinecolor\":\"#283442\",\"zerolinewidth\":2},\"yaxis\":{\"automargin\":true,\"gridcolor\":\"#283442\",\"linecolor\":\"#506784\",\"ticks\":\"\",\"title\":{\"standoff\":15},\"zerolinecolor\":\"#283442\",\"zerolinewidth\":2}}},\"xaxis\":{\"anchor\":\"y\",\"domain\":[0.0,1.0],\"title\":{\"text\":\"Score\"}},\"yaxis\":{\"anchor\":\"x\",\"domain\":[0.0,1.0],\"title\":{\"text\":\"Model\"}},\"coloraxis\":{\"colorbar\":{\"title\":{\"text\":\"Score\"}},\"colorscale\":[[0.0,\"#0d0887\"],[0.1111111111111111,\"#46039f\"],[0.2222222222222222,\"#7201a8\"],[0.3333333333333333,\"#9c179e\"],[0.4444444444444444,\"#bd3786\"],[0.5555555555555556,\"#d8576b\"],[0.6666666666666666,\"#ed7953\"],[0.7777777777777778,\"#fb9f3a\"],[0.8888888888888888,\"#fdca26\"],[1.0,\"#f0f921\"]]},\"legend\":{\"tracegroupgap\":0},\"title\":{\"text\":\"Models Comparison\"},\"barmode\":\"relative\"},                        {\"responsive\": true}                    ).then(function(){\n",
              "                            \n",
              "var gd = document.getElementById('b7e16a32-e473-44cc-882c-ee951b54b1ac');\n",
              "var x = new MutationObserver(function (mutations, observer) {{\n",
              "        var display = window.getComputedStyle(gd).display;\n",
              "        if (!display || display === 'none') {{\n",
              "            console.log([gd, 'removed!']);\n",
              "            Plotly.purge(gd);\n",
              "            observer.disconnect();\n",
              "        }}\n",
              "}});\n",
              "\n",
              "// Listen for the removal of the full notebook cells\n",
              "var notebookContainer = gd.closest('#notebook-container');\n",
              "if (notebookContainer) {{\n",
              "    x.observe(notebookContainer, {childList: true});\n",
              "}}\n",
              "\n",
              "// Listen for the clearing of the current output cell\n",
              "var outputEl = gd.closest('.output');\n",
              "if (outputEl) {{\n",
              "    x.observe(outputEl, {childList: true});\n",
              "}}\n",
              "\n",
              "                        })                };                            </script>        </div>\n",
              "</body>\n",
              "</html>"
            ]
          },
          "metadata": {}
        }
      ],
      "source": [
        "px.bar(data_frame = models, x = 'Score', y = 'Model', color = 'Score', template = 'plotly_dark',\n",
        "       title = 'Models Comparison')"
      ]
    }
  ],
  "metadata": {
    "colab": {
      "provenance": []
    },
    "kernelspec": {
      "display_name": "Python 3 (ipykernel)",
      "language": "python",
      "name": "python3"
    },
    "language_info": {
      "codemirror_mode": {
        "name": "ipython",
        "version": 3
      },
      "file_extension": ".py",
      "mimetype": "text/x-python",
      "name": "python",
      "nbconvert_exporter": "python",
      "pygments_lexer": "ipython3",
      "version": "3.9.12"
    },
    "papermill": {
      "default_parameters": {},
      "duration": 63.932833,
      "end_time": "2021-08-03T10:27:41.688051",
      "environment_variables": {},
      "exception": null,
      "input_path": "__notebook__.ipynb",
      "output_path": "__notebook__.ipynb",
      "parameters": {},
      "start_time": "2021-08-03T10:26:37.755218",
      "version": "2.3.3"
    }
  },
  "nbformat": 4,
  "nbformat_minor": 5
}